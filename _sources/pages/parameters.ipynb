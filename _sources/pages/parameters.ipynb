{
 "cells": [
  {
   "cell_type": "markdown",
   "metadata": {},
   "source": [
    "(page-parameter-learning)=\n",
    "\n",
    "# Parameter learning in Spiking Neural Networks\n",
    "\n",
    "Author: Christian Pehle\n",
    "\n",
    "As we have already seen in {ref}`page-spiking` Neuron models come with parameters, such as membrane time constants, which determine their dynamics. While those parameters are often treated as arbitrarily treated constants and therefore _hyperparameters_ in a machine learning context, more recently it has become clear that it can be benefitial to treat them as _parameters_. In this notebook, we will first learn how to initialise a network of LIF neurons with distinct, but fixed time constants and voltage thresholds and then how to incorporate them into the optimisation. As we will see, this is largely facilitated by the pre-existing ways of treating parameters in PyTorch.\n"
   ]
  },
  {
   "cell_type": "code",
   "execution_count": 1,
   "metadata": {},
   "outputs": [],
   "source": [
    "import norse.torch as norse\n",
    "import torch\n",
    "import matplotlib.pyplot as plt"
   ]
  },
  {
   "cell_type": "markdown",
   "metadata": {},
   "source": [
    "## Defining a Network of LIF Neurons with varying membrane time-constants\n",
    "\n",
    "A population of recurrently connected LIF neurons can be instantiated in Norse as follows:\n"
   ]
  },
  {
   "cell_type": "code",
   "execution_count": 2,
   "metadata": {},
   "outputs": [
    {
     "data": {
      "text/plain": [
       "LIFRecurrentCell(input_size=200, hidden_size=100, p=LIFParameters(tau_syn_inv=tensor(200.), tau_mem_inv=tensor(100.), v_leak=tensor(0.), v_th=tensor(1.), v_reset=tensor(0.), method='super', alpha=tensor(100.)), autapses=False, dt=0.001)"
      ]
     },
     "execution_count": 2,
     "metadata": {},
     "output_type": "execute_result"
    }
   ],
   "source": [
    "from norse.torch import LIFRecurrentCell\n",
    "\n",
    "m = LIFRecurrentCell(input_size=200, hidden_size=100)\n",
    "m"
   ]
  },
  {
   "cell_type": "markdown",
   "metadata": {},
   "source": [
    "As you can see the `LIFParameters` are initialised to some default values. It is easy enough to instead sample these values from a given distribution. While we will use a random normal distribution here, a more appropriate choice would be for example a lognormal distribution, as this would guarantee that the inverse membrane time constant remains positive, which is an essential requirement. Here we just choose the standard deviation in such a way, that a negative value would be very unlikely.\n"
   ]
  },
  {
   "cell_type": "code",
   "execution_count": 3,
   "metadata": {},
   "outputs": [
    {
     "data": {
      "text/plain": [
       "Text(0.5, 0, '$\\\\tau_{m}^{-1}$ [ms]')"
      ]
     },
     "execution_count": 3,
     "metadata": {},
     "output_type": "execute_result"
    },
    {
     "data": {
      "image/png": "[encoded data removed]",
      "text/plain": [
       "<Figure size 640x480 with 1 Axes>"
      ]
     },
     "metadata": {},
     "output_type": "display_data"
    }
   ],
   "source": [
    "import numpy as np\n",
    "\n",
    "counts, bins = np.histogram(norse.LIFParameters().tau_mem_inv + 20*torch.randn(100))\n",
    "plt.hist(bins[:-1], bins, weights=counts, histtype='step')\n",
    "plt.xlabel('$\\\\tau_{m}^{-1}$ [ms]')"
   ]
  },
  {
   "cell_type": "markdown",
   "metadata": {},
   "source": [
    "The parameters of a PyTorch module can be accesses by invoking the `parameters` method. In the case of the `LIFRecurrentCell` those are the recurrent and input weight matrices. Note how both tensors have `requires_grad=True` and that the `LIFParameters` do not appear. This is because none of the tensors entering the `LIFParameters` have been registered as a PyTorch Parameter.\n"
   ]
  },
  {
   "cell_type": "code",
   "execution_count": 4,
   "metadata": {},
   "outputs": [
    {
     "data": {
      "text/plain": [
       "[Parameter containing:\n",
       " tensor([[-0.1194,  0.1136, -0.2711,  ...,  0.1279, -0.1420,  0.1173],\n",
       "         [ 0.2288,  0.2262, -0.1159,  ..., -0.0104, -0.0177, -0.2211],\n",
       "         [-0.2543, -0.1794, -0.0251,  ...,  0.2750,  0.2376,  0.0526],\n",
       "         ...,\n",
       "         [-0.1896, -0.2198,  0.0777,  ..., -0.0185, -0.0746, -0.0146],\n",
       "         [ 0.0268,  0.0110, -0.0980,  ...,  0.0703, -0.2027, -0.0915],\n",
       "         [ 0.0295, -0.0911, -0.1525,  ..., -0.0086, -0.1295,  0.0954]],\n",
       "        requires_grad=True),\n",
       " Parameter containing:\n",
       " tensor([[ 0.0000, -0.2216,  0.2094,  ...,  0.1097,  0.0888,  0.0195],\n",
       "         [-0.2969,  0.0000, -0.0260,  ...,  0.1323,  0.0763,  0.1292],\n",
       "         [-0.1003, -0.0632,  0.0000,  ...,  0.0105,  0.3366,  0.0097],\n",
       "         ...,\n",
       "         [ 0.1757,  0.1589,  0.1485,  ...,  0.0000,  0.0158, -0.0884],\n",
       "         [ 0.1480,  0.0914,  0.2005,  ..., -0.0703,  0.0000, -0.1710],\n",
       "         [ 0.1469, -0.1018, -0.3067,  ..., -0.3169,  0.0749,  0.0000]],\n",
       "        requires_grad=True)]"
      ]
     },
     "execution_count": 4,
     "metadata": {},
     "output_type": "execute_result"
    }
   ],
   "source": [
    "list(m.parameters())"
   ]
  },
  {
   "cell_type": "markdown",
   "metadata": {},
   "source": [
    "The easiest way to rectify this situation is to define an additional `torch.nn.Module` and explicitely register the inverse membrane time constant and threshold as a parameter.\n"
   ]
  },
  {
   "cell_type": "code",
   "execution_count": 5,
   "metadata": {},
   "outputs": [],
   "source": [
    "class ParametrizedLIFRecurrentCell(torch.nn.Module):\n",
    "    def __init__(self, input_size, hidden_size):\n",
    "        super(ParametrizedLIFRecurrentCell, self).__init__()\n",
    "        self.tau_mem_inv = torch.nn.Parameter(norse.LIFParameters().tau_mem_inv + 20*torch.randn(hidden_size))\n",
    "        self.v_th = torch.nn.Parameter(0.5 + 0.1 * torch.randn(hidden_size))\n",
    "        self.cell = norse.LIFRecurrentCell(input_size=input_size, hidden_size=hidden_size, \n",
    "                                           p = norse.LIFParameters(\n",
    "                                               tau_mem_inv = self.tau_mem_inv,\n",
    "                                               v_th = self.v_th,\n",
    "                                               alpha = 100,\n",
    "                                           )\n",
    "                                                        \n",
    "        )\n",
    "\n",
    "    def forward(self, x, s = None):\n",
    "        return self.cell(x, s)"
   ]
  },
  {
   "cell_type": "code",
   "execution_count": 6,
   "metadata": {},
   "outputs": [
    {
     "data": {
      "text/plain": [
       "ParametrizedLIFRecurrentCell(\n",
       "  (cell): LIFRecurrentCell(\n",
       "    input_size=200, hidden_size=100, p=LIFParameters(tau_syn_inv=tensor(200.), tau_mem_inv=Parameter containing:\n",
       "    tensor([ 98.4975,  75.8959, 100.0480, 104.0904,  91.6044, 104.2571,  99.8387,\n",
       "            102.2862,  94.2140,  82.4796, 117.1728,  93.4208, 110.3285, 121.4807,\n",
       "             84.8005,  70.1703,  94.1371, 117.2458,  89.8871, 114.5493, 106.8133,\n",
       "            112.5342, 116.5404,  70.1308, 123.9269,  70.6085, 103.6173, 124.5228,\n",
       "             92.2046, 133.1231, 103.8168,  56.5667, 109.8127,  90.1551,  99.6740,\n",
       "             89.7536, 116.1546, 102.3786,  90.7362,  90.1405,  94.4040,  81.4191,\n",
       "            122.6041, 129.4376, 124.7003,  80.4840, 103.7615, 110.8580, 122.1485,\n",
       "             85.9717,  64.1918,  95.2362,  88.3565, 108.6527, 105.8938,  97.9635,\n",
       "             54.7142, 103.9065, 103.4618,  74.3478, 113.1331, 133.4861, 121.1352,\n",
       "             82.3782,  66.9727, 126.1672, 126.3672, 106.8703,  88.6423,  84.1784,\n",
       "             85.5379,  95.2683, 127.7766, 107.5550,  78.9259,  41.3888, 128.3434,\n",
       "            113.9114,  79.2927, 128.9528,  81.6468,  78.3772, 104.1129,  94.2193,\n",
       "             98.5470, 122.6533, 103.2168, 104.0863,  88.3345,  94.7348, 116.2405,\n",
       "             89.9301,  82.0730, 108.0570,  80.6286,  93.1767, 122.7244, 113.7304,\n",
       "            107.4851, 112.1658], requires_grad=True), v_leak=tensor(0.), v_th=Parameter containing:\n",
       "    tensor([0.3771, 0.6864, 0.5036, 0.5235, 0.4880, 0.5802, 0.5524, 0.5855, 0.5646,\n",
       "            0.4510, 0.5123, 0.5316, 0.4819, 0.4334, 0.7172, 0.4558, 0.4115, 0.4720,\n",
       "            0.5749, 0.5094, 0.5086, 0.5383, 0.5322, 0.5352, 0.4896, 0.5754, 0.3313,\n",
       "            0.6108, 0.5275, 0.3259, 0.4233, 0.3865, 0.4786, 0.3735, 0.6481, 0.6695,\n",
       "            0.5775, 0.3794, 0.6039, 0.4067, 0.3834, 0.7059, 0.4468, 0.3902, 0.4104,\n",
       "            0.4718, 0.4282, 0.6087, 0.4828, 0.4557, 0.3601, 0.3906, 0.5924, 0.3171,\n",
       "            0.6117, 0.4120, 0.5986, 0.6328, 0.5198, 0.5574, 0.4041, 0.3124, 0.4074,\n",
       "            0.4283, 0.4706, 0.5886, 0.4085, 0.4550, 0.5816, 0.4515, 0.3316, 0.5776,\n",
       "            0.5582, 0.4448, 0.7650, 0.3942, 0.4737, 0.4818, 0.5636, 0.3838, 0.5514,\n",
       "            0.6083, 0.2801, 0.6206, 0.5542, 0.4101, 0.4732, 0.4736, 0.6503, 0.3603,\n",
       "            0.5753, 0.3677, 0.5326, 0.2879, 0.5054, 0.4104, 0.5151, 0.5727, 0.3981,\n",
       "            0.4955], requires_grad=True), v_reset=tensor(0.), method='super', alpha=tensor(100)), autapses=False, dt=0.001\n",
       "  )\n",
       ")"
      ]
     },
     "execution_count": 6,
     "metadata": {},
     "output_type": "execute_result"
    }
   ],
   "source": [
    "m = ParametrizedLIFRecurrentCell(200, 100)\n",
    "m"
   ]
  },
  {
   "cell_type": "markdown",
   "metadata": {},
   "source": [
    "The inverse membrane time constant and the threshold value now also appears as parameters:\n"
   ]
  },
  {
   "cell_type": "code",
   "execution_count": 7,
   "metadata": {},
   "outputs": [
    {
     "data": {
      "text/plain": [
       "[Parameter containing:\n",
       " tensor([ 98.4975,  75.8959, 100.0480, 104.0904,  91.6044, 104.2571,  99.8387,\n",
       "         102.2862,  94.2140,  82.4796, 117.1728,  93.4208, 110.3285, 121.4807,\n",
       "          84.8005,  70.1703,  94.1371, 117.2458,  89.8871, 114.5493, 106.8133,\n",
       "         112.5342, 116.5404,  70.1308, 123.9269,  70.6085, 103.6173, 124.5228,\n",
       "          92.2046, 133.1231, 103.8168,  56.5667, 109.8127,  90.1551,  99.6740,\n",
       "          89.7536, 116.1546, 102.3786,  90.7362,  90.1405,  94.4040,  81.4191,\n",
       "         122.6041, 129.4376, 124.7003,  80.4840, 103.7615, 110.8580, 122.1485,\n",
       "          85.9717,  64.1918,  95.2362,  88.3565, 108.6527, 105.8938,  97.9635,\n",
       "          54.7142, 103.9065, 103.4618,  74.3478, 113.1331, 133.4861, 121.1352,\n",
       "          82.3782,  66.9727, 126.1672, 126.3672, 106.8703,  88.6423,  84.1784,\n",
       "          85.5379,  95.2683, 127.7766, 107.5550,  78.9259,  41.3888, 128.3434,\n",
       "         113.9114,  79.2927, 128.9528,  81.6468,  78.3772, 104.1129,  94.2193,\n",
       "          98.5470, 122.6533, 103.2168, 104.0863,  88.3345,  94.7348, 116.2405,\n",
       "          89.9301,  82.0730, 108.0570,  80.6286,  93.1767, 122.7244, 113.7304,\n",
       "         107.4851, 112.1658], requires_grad=True),\n",
       " Parameter containing:\n",
       " tensor([0.3771, 0.6864, 0.5036, 0.5235, 0.4880, 0.5802, 0.5524, 0.5855, 0.5646,\n",
       "         0.4510, 0.5123, 0.5316, 0.4819, 0.4334, 0.7172, 0.4558, 0.4115, 0.4720,\n",
       "         0.5749, 0.5094, 0.5086, 0.5383, 0.5322, 0.5352, 0.4896, 0.5754, 0.3313,\n",
       "         0.6108, 0.5275, 0.3259, 0.4233, 0.3865, 0.4786, 0.3735, 0.6481, 0.6695,\n",
       "         0.5775, 0.3794, 0.6039, 0.4067, 0.3834, 0.7059, 0.4468, 0.3902, 0.4104,\n",
       "         0.4718, 0.4282, 0.6087, 0.4828, 0.4557, 0.3601, 0.3906, 0.5924, 0.3171,\n",
       "         0.6117, 0.4120, 0.5986, 0.6328, 0.5198, 0.5574, 0.4041, 0.3124, 0.4074,\n",
       "         0.4283, 0.4706, 0.5886, 0.4085, 0.4550, 0.5816, 0.4515, 0.3316, 0.5776,\n",
       "         0.5582, 0.4448, 0.7650, 0.3942, 0.4737, 0.4818, 0.5636, 0.3838, 0.5514,\n",
       "         0.6083, 0.2801, 0.6206, 0.5542, 0.4101, 0.4732, 0.4736, 0.6503, 0.3603,\n",
       "         0.5753, 0.3677, 0.5326, 0.2879, 0.5054, 0.4104, 0.5151, 0.5727, 0.3981,\n",
       "         0.4955], requires_grad=True),\n",
       " Parameter containing:\n",
       " tensor([[ 0.0569,  0.0114,  0.0543,  ..., -0.1096, -0.3363,  0.1336],\n",
       "         [ 0.1641, -0.0819,  0.3043,  ...,  0.0205,  0.0853,  0.0410],\n",
       "         [-0.2121,  0.1960,  0.2041,  ...,  0.1220,  0.0449, -0.1277],\n",
       "         ...,\n",
       "         [ 0.0465,  0.0344,  0.1065,  ...,  0.1082, -0.0936, -0.3287],\n",
       "         [-0.1520,  0.1039, -0.0809,  ...,  0.0168, -0.2351, -0.3603],\n",
       "         [-0.0429,  0.0029,  0.0862,  ..., -0.1236, -0.2802, -0.2076]],\n",
       "        requires_grad=True),\n",
       " Parameter containing:\n",
       " tensor([[ 0.0000,  0.2439,  0.0775,  ...,  0.2420, -0.1645, -0.0941],\n",
       "         [-0.0997,  0.0000, -0.1519,  ..., -0.2292, -0.0691,  0.1376],\n",
       "         [ 0.0368, -0.0173,  0.0000,  ...,  0.0196, -0.3091,  0.1996],\n",
       "         ...,\n",
       "         [ 0.0576,  0.0458,  0.0083,  ...,  0.0000,  0.0120, -0.1226],\n",
       "         [-0.0859, -0.0422, -0.0908,  ..., -0.0144,  0.0000,  0.1237],\n",
       "         [-0.0799, -0.1606,  0.0906,  ..., -0.0568, -0.2011,  0.0000]],\n",
       "        requires_grad=True)]"
      ]
     },
     "execution_count": 7,
     "metadata": {},
     "output_type": "execute_result"
    }
   ],
   "source": [
    "list(m.parameters())"
   ]
  },
  {
   "cell_type": "markdown",
   "metadata": {},
   "source": [
    "## Toy Example: Training a small recurrent SNN on MNIST\n",
    "\n",
    "In order to demonstrate training on an example task, we turn to MNIST. The training and testing code here is adopted from the training notebook on MNIST and serves as an illustration. We do not necessarily expect there to be a great benefit in optimising the time-constants and threshold in this example.\n"
   ]
  },
  {
   "cell_type": "markdown",
   "metadata": {},
   "source": [
    "### Dataset Loading\n"
   ]
  },
  {
   "cell_type": "code",
   "execution_count": 8,
   "metadata": {
    "scrolled": true
   },
   "outputs": [],
   "source": [
    "import torchvision\n",
    "\n",
    "BATCH_SIZE = 256\n",
    "\n",
    "transform = torchvision.transforms.Compose(\n",
    "    [\n",
    "        torchvision.transforms.ToTensor(),\n",
    "        torchvision.transforms.Normalize((0.1307,), (0.3081,)),\n",
    "    ]\n",
    ")\n",
    "\n",
    "train_data = torchvision.datasets.MNIST(\n",
    "    root=\".\",\n",
    "    train=True,\n",
    "    download=True,\n",
    "    transform=transform,\n",
    ")\n",
    "\n",
    "train_loader = torch.utils.data.DataLoader(\n",
    "    train_data,\n",
    "    batch_size=BATCH_SIZE,\n",
    "    shuffle=True\n",
    ")\n",
    "\n",
    "test_loader = torch.utils.data.DataLoader(\n",
    "    torchvision.datasets.MNIST(\n",
    "        root=\".\",\n",
    "        train=False,\n",
    "        transform=transform,\n",
    "    ),\n",
    "    batch_size=BATCH_SIZE\n",
    ")"
   ]
  },
  {
   "cell_type": "markdown",
   "metadata": {},
   "source": [
    "### Model Defitinition\n",
    "\n",
    "For simplicity we are considering a simple network with a single hidden layer of recurrently connected neurons.\n"
   ]
  },
  {
   "cell_type": "code",
   "execution_count": 9,
   "metadata": {},
   "outputs": [],
   "source": [
    "from norse.torch import LICell\n",
    "\n",
    "class SNN(torch.nn.Module):\n",
    "    def __init__(self, \n",
    "                 input_features,\n",
    "                 hidden_features, \n",
    "                 output_features,\n",
    "                 recurrent_cell\n",
    "                ):\n",
    "        super(SNN, self).__init__()\n",
    "        self.cell = recurrent_cell\n",
    "        self.fc_out = torch.nn.Linear(hidden_features, output_features, bias=False)\n",
    "        self.out = LICell()\n",
    "        self.input_features = input_features\n",
    "                             \n",
    "    def forward(self, x):\n",
    "        seq_length, batch_size, _, _, _ = x.shape\n",
    "        s1 = so = None\n",
    "        voltages = []\n",
    "\n",
    "\n",
    "        for ts in range(seq_length):\n",
    "            z = x[ts, :, :, :].view(-1, self.input_features)\n",
    "            z, s1 = self.cell(z, s1)\n",
    "            z = self.fc_out(z)\n",
    "            vo, so = self.out(z, so)\n",
    "            voltages += [vo]\n",
    "        \n",
    "        return torch.stack(voltages)"
   ]
  },
  {
   "cell_type": "code",
   "execution_count": 10,
   "metadata": {},
   "outputs": [],
   "source": [
    "class Model(torch.nn.Module):\n",
    "    def __init__(self, encoder, snn, decoder):\n",
    "        super(Model, self).__init__()\n",
    "        self.encoder = encoder\n",
    "        self.snn = snn\n",
    "        self.decoder = decoder\n",
    "\n",
    "    def forward(self, x):\n",
    "        x = self.encoder(x)\n",
    "        x = self.snn(x)\n",
    "        log_p_y = self.decoder(x)\n",
    "        return log_p_y"
   ]
  },
  {
   "cell_type": "markdown",
   "metadata": {},
   "source": [
    "### Training and Test loop\n",
    "\n",
    "Both the training and test loop are independent of the model or dataset that we are using, in practice you should however probably use a more sophisticated version as they don't take care of parameter checkpoints or other concerns.\n"
   ]
  },
  {
   "cell_type": "code",
   "execution_count": 11,
   "metadata": {},
   "outputs": [],
   "source": [
    "from tqdm.notebook import tqdm, trange\n",
    "\n",
    "def train(model, device, train_loader, optimizer, epoch, max_epochs):\n",
    "    model.train()\n",
    "    losses = []\n",
    "\n",
    "    for (data, target) in tqdm(train_loader, leave=False):\n",
    "        data, target = data.to(device), target.to(device)\n",
    "        optimizer.zero_grad()\n",
    "        output = model(data)\n",
    "        loss = torch.nn.functional.nll_loss(output, target)\n",
    "        loss.backward()\n",
    "        optimizer.step()\n",
    "        losses.append(loss.item())\n",
    "\n",
    "    mean_loss = np.mean(losses)\n",
    "    return losses, mean_loss"
   ]
  },
  {
   "cell_type": "code",
   "execution_count": 12,
   "metadata": {},
   "outputs": [],
   "source": [
    "def test(model, device, test_loader, epoch):\n",
    "    model.eval()\n",
    "    test_loss = 0\n",
    "    correct = 0\n",
    "    with torch.no_grad():\n",
    "        for data, target in test_loader:\n",
    "            data, target = data.to(device), target.to(device)\n",
    "            output = model(data)\n",
    "            test_loss += torch.nn.functional.nll_loss(\n",
    "                output, target, reduction=\"sum\"\n",
    "            ).item()  # sum up batch loss\n",
    "            pred = output.argmax(\n",
    "                dim=1, keepdim=True\n",
    "            )  # get the index of the max log-probability\n",
    "            correct += pred.eq(target.view_as(pred)).sum().item()\n",
    "\n",
    "    test_loss /= len(test_loader.dataset)\n",
    "\n",
    "    accuracy = 100.0 * correct / len(test_loader.dataset)\n",
    "\n",
    "    return test_loss, accuracy"
   ]
  },
  {
   "cell_type": "code",
   "execution_count": 13,
   "metadata": {},
   "outputs": [],
   "source": [
    "from norse.torch import ConstantCurrentLIFEncoder\n",
    "\n",
    "def decode(x):\n",
    "    x, _ = torch.max(x, 0)\n",
    "    log_p_y = torch.nn.functional.log_softmax(x, dim=1)\n",
    "    return log_p_y\n",
    "\n",
    "\n",
    "T = 32\n",
    "LR = 0.002\n",
    "INPUT_FEATURES = 28*28\n",
    "HIDDEN_FEATURES = 100\n",
    "OUTPUT_FEATURES = 10\n",
    "EPOCHS = 5\n",
    "\n",
    "if torch.cuda.is_available():\n",
    "    DEVICE = torch.device(\"cuda\")\n",
    "else:\n",
    "    DEVICE = torch.device(\"cpu\")"
   ]
  },
  {
   "cell_type": "code",
   "execution_count": 14,
   "metadata": {},
   "outputs": [],
   "source": [
    "def run_training(model, optimizer, epochs = EPOCHS):\n",
    "    training_losses = []\n",
    "    mean_losses = []\n",
    "    test_losses = []\n",
    "    accuracies = []\n",
    "\n",
    "    torch.autograd.set_detect_anomaly(True)\n",
    "\n",
    "    for epoch in trange(epochs):\n",
    "        training_loss, mean_loss = train(model, DEVICE, train_loader, optimizer, epoch, max_epochs=EPOCHS)\n",
    "        test_loss, accuracy = test(model, DEVICE, test_loader, epoch)\n",
    "        training_losses += training_loss\n",
    "        mean_losses.append(mean_loss)\n",
    "        test_losses.append(test_loss)\n",
    "        accuracies.append(accuracy)\n",
    "\n",
    "    print(f\"final accuracy: {accuracies[-1]}\")\n",
    "    return model"
   ]
  },
  {
   "cell_type": "markdown",
   "metadata": {},
   "source": [
    "### Model Evaluation\n",
    "\n",
    "With all of this boilerplate out of the way we can define our final model and run training for a number of epochs (10 by default). If you are impatient you can decrease that number to 1-2. With the default values, the result will be a test accuracy of >95%, that is nothing to write home about.\n"
   ]
  },
  {
   "cell_type": "code",
   "execution_count": 15,
   "metadata": {},
   "outputs": [],
   "source": [
    "model = Model(\n",
    "    encoder=ConstantCurrentLIFEncoder(\n",
    "      seq_length=T,\n",
    "    ),\n",
    "    snn=SNN(\n",
    "      input_features=INPUT_FEATURES,\n",
    "      hidden_features=HIDDEN_FEATURES,\n",
    "      output_features=OUTPUT_FEATURES,\n",
    "      recurrent_cell=ParametrizedLIFRecurrentCell(\n",
    "            input_size=28*28, \n",
    "            hidden_size=100\n",
    "      )\n",
    "    ),\n",
    "    decoder=decode\n",
    ").to(DEVICE)\n",
    "\n",
    "optimizer = torch.optim.Adam(model.parameters(), lr=LR)"
   ]
  },
  {
   "cell_type": "code",
   "execution_count": 16,
   "metadata": {},
   "outputs": [],
   "source": [
    "tau_mem_inv_before = model.snn.cell.cell.p.tau_mem_inv.cpu().detach().numpy()\n",
    "v_th_before = model.snn.cell.cell.p.v_th.cpu().detach().numpy()"
   ]
  },
  {
   "cell_type": "code",
   "execution_count": 17,
   "metadata": {},
   "outputs": [
    {
     "data": {
      "application/vnd.jupyter.widget-view+json": {
       "model_id": "a7ebb9abb0f84250b8a0a138c9ea3b77",
       "version_major": 2,
       "version_minor": 0
      },
      "text/plain": [
       "  0%|          | 0/10 [00:00<?, ?it/s]"
      ]
     },
     "metadata": {},
     "output_type": "display_data"
    },
    {
     "data": {
      "application/vnd.jupyter.widget-view+json": {
       "model_id": "927dcef767764aa0a532f7b7fc113ad1",
       "version_major": 2,
       "version_minor": 0
      },
      "text/plain": [
       "  0%|          | 0/235 [00:00<?, ?it/s]"
      ]
     },
     "metadata": {},
     "output_type": "display_data"
    },
    {
     "data": {
      "application/vnd.jupyter.widget-view+json": {
       "model_id": "5dab7092455f49868cedd81886dc35de",
       "version_major": 2,
       "version_minor": 0
      },
      "text/plain": [
       "  0%|          | 0/235 [00:00<?, ?it/s]"
      ]
     },
     "metadata": {},
     "output_type": "display_data"
    },
    {
     "data": {
      "application/vnd.jupyter.widget-view+json": {
       "model_id": "6bf4eb74ef5c41c2be71ab15cb855c2c",
       "version_major": 2,
       "version_minor": 0
      },
      "text/plain": [
       "  0%|          | 0/235 [00:00<?, ?it/s]"
      ]
     },
     "metadata": {},
     "output_type": "display_data"
    },
    {
     "data": {
      "application/vnd.jupyter.widget-view+json": {
       "model_id": "ce5a7a6f31574b109cba62f3fe2fdb0f",
       "version_major": 2,
       "version_minor": 0
      },
      "text/plain": [
       "  0%|          | 0/235 [00:00<?, ?it/s]"
      ]
     },
     "metadata": {},
     "output_type": "display_data"
    },
    {
     "data": {
      "application/vnd.jupyter.widget-view+json": {
       "model_id": "8eb3cc293a3b43c5a651fa4cfdf6c374",
       "version_major": 2,
       "version_minor": 0
      },
      "text/plain": [
       "  0%|          | 0/235 [00:00<?, ?it/s]"
      ]
     },
     "metadata": {},
     "output_type": "display_data"
    },
    {
     "data": {
      "application/vnd.jupyter.widget-view+json": {
       "model_id": "877ace12eab44e6ea2ed3109c002a2ed",
       "version_major": 2,
       "version_minor": 0
      },
      "text/plain": [
       "  0%|          | 0/235 [00:00<?, ?it/s]"
      ]
     },
     "metadata": {},
     "output_type": "display_data"
    },
    {
     "data": {
      "application/vnd.jupyter.widget-view+json": {
       "model_id": "e93ba902608a4b5496958be8dfd1d739",
       "version_major": 2,
       "version_minor": 0
      },
      "text/plain": [
       "  0%|          | 0/235 [00:00<?, ?it/s]"
      ]
     },
     "metadata": {},
     "output_type": "display_data"
    },
    {
     "data": {
      "application/vnd.jupyter.widget-view+json": {
       "model_id": "ad8c48e0d2834ee384b532cdfa87d102",
       "version_major": 2,
       "version_minor": 0
      },
      "text/plain": [
       "  0%|          | 0/235 [00:00<?, ?it/s]"
      ]
     },
     "metadata": {},
     "output_type": "display_data"
    },
    {
     "data": {
      "application/vnd.jupyter.widget-view+json": {
       "model_id": "dbd1313ba6bd4010b4275d96fe4405ec",
       "version_major": 2,
       "version_minor": 0
      },
      "text/plain": [
       "  0%|          | 0/235 [00:00<?, ?it/s]"
      ]
     },
     "metadata": {},
     "output_type": "display_data"
    },
    {
     "data": {
      "application/vnd.jupyter.widget-view+json": {
       "model_id": "f88a4b5307ba42d8b7f3e7f5769e2b33",
       "version_major": 2,
       "version_minor": 0
      },
      "text/plain": [
       "  0%|          | 0/235 [00:00<?, ?it/s]"
      ]
     },
     "metadata": {},
     "output_type": "display_data"
    },
    {
     "name": "stdout",
     "output_type": "stream",
     "text": [
      "final accuracy: 95.93\n"
     ]
    }
   ],
   "source": [
    "model_after = run_training(model, optimizer, epochs=10)"
   ]
  },
  {
   "cell_type": "code",
   "execution_count": 18,
   "metadata": {},
   "outputs": [],
   "source": [
    "tau_mem_inv_after = model_after.snn.cell.cell.p.tau_mem_inv.cpu().detach().numpy()\n",
    "v_th_after = model_after.snn.cell.cell.p.v_th.cpu().detach().numpy()"
   ]
  },
  {
   "cell_type": "markdown",
   "metadata": {},
   "source": [
    "We can plot the distribution of inverse membrane timeconstants before and after the training:\n"
   ]
  },
  {
   "cell_type": "code",
   "execution_count": 19,
   "metadata": {},
   "outputs": [
    {
     "data": {
      "text/plain": [
       "<matplotlib.legend.Legend at 0x7f74b561dd30>"
      ]
     },
     "execution_count": 19,
     "metadata": {},
     "output_type": "execute_result"
    },
    {
     "data": {
      "image/png": "[encoded data removed]",
      "text/plain": [
       "<Figure size 900x500 with 1 Axes>"
      ]
     },
     "metadata": {},
     "output_type": "display_data"
    }
   ],
   "source": [
    "counts, bins = np.histogram(tau_mem_inv_before)\n",
    "fig, ax = plt.subplots(figsize=(9,5))\n",
    "ax.hist(bins[:-1], bins, weights=counts, histtype='step', label='before')\n",
    "counts, bins = np.histogram(tau_mem_inv_after)\n",
    "ax.hist(bins[:-1], bins, weights=counts, histtype='step', label='after')\n",
    "ax.set_xlabel('$\\\\tau_{m}^{-1}$ [ms]')\n",
    "ax.legend()"
   ]
  },
  {
   "cell_type": "markdown",
   "metadata": {},
   "source": [
    "Similarly we can plot the distribution of membrane threshold voltages before and after optimisation:\n"
   ]
  },
  {
   "cell_type": "code",
   "execution_count": 20,
   "metadata": {},
   "outputs": [
    {
     "data": {
      "text/plain": [
       "<matplotlib.legend.Legend at 0x7f74ae9f3e00>"
      ]
     },
     "execution_count": 20,
     "metadata": {},
     "output_type": "execute_result"
    },
    {
     "data": {
      "image/png": "[encoded data removed]",
      "text/plain": [
       "<Figure size 900x500 with 1 Axes>"
      ]
     },
     "metadata": {},
     "output_type": "display_data"
    }
   ],
   "source": [
    "counts, bins = np.histogram(v_th_before)\n",
    "fig, ax = plt.subplots(figsize=(9,5))\n",
    "ax.hist(bins[:-1], bins, weights=counts, histtype='step', label='before')\n",
    "counts, bins = np.histogram(v_th_after)\n",
    "ax.hist(bins[:-1], bins, weights=counts, histtype='step', label='after')\n",
    "ax.set_xlabel('$v_{th}$ [a.u.]')\n",
    "ax.legend()"
   ]
  },
  {
   "cell_type": "markdown",
   "metadata": {},
   "source": [
    "## Conclusions\n",
    "\n",
    "This concludes this tutorial, as we have seen incorporating _neuron parameters_ into the optimisation in Norse mainly requires knowledge of the PyTorch internals. At the moment that optimisation is also only supported for the surrogate gradient implementation and not while using the discretised adjoint implementation. This is not a fundamental limitation though and support for neuron parameter gradients could be added.\n",
    "\n",
    "Several publications have recently explored optimising neuron parameters to both demonstrate that the resulting time constant distributions more closely resembled ones measured in biological cells and advantages in ML applications. As always the challenge to practically demonstrating the advantage of incorporating neuron parameters into the optimisation is doing careful and controlled experiments and choosing the right tasks. While this notebook demonstrates the general technique it does take some shortcuts:\n",
    "\n",
    "- Optimisation works best if the scale of the values to be optimised is in an appropriate range. This is not the case here for the inverse time constant, which has a value of > 100. A more sophisticated approach would take this into account by for example generating this parameter from an appropriately scaled initial value.\n",
    "- Similarly we have chosen a rather naive initialisation of both the threshold and inverse membrane time constant. More careful initialisation would for example involve sampling from a distribution with guaranteed positive samples.\n",
    "- Finally we haven't demonstrated any benefit of jointly optimising neuron parameters and synaptic weights.\n"
   ]
  }
 ],
 "metadata": {
  "kernelspec": {
   "display_name": "bccn",
   "language": "python",
   "name": "python3"
  },
  "language_info": {
   "codemirror_mode": {
    "name": "ipython",
    "version": 3
   },
   "file_extension": ".py",
   "mimetype": "text/x-python",
   "name": "python",
   "nbconvert_exporter": "python",
   "pygments_lexer": "ipython3",
   "version": "3.12.8"
  }
 },
 "nbformat": 4,
 "nbformat_minor": 2
}
