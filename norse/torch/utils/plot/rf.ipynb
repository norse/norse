{
 "cells": [
  {
   "cell_type": "code",
   "execution_count": 48,
   "metadata": {},
   "outputs": [
    {
     "data": {
      "text/plain": [
       "<module 'norse.torch.functional.receptive_field' from '/home/jens/norse/norse/torch/functional/receptive_field.py'>"
      ]
     },
     "execution_count": 48,
     "metadata": {},
     "output_type": "execute_result"
    }
   ],
   "source": [
    "import math\n",
    "import torch\n",
    "import matplotlib\n",
    "import matplotlib.pyplot as plt\n",
    "\n",
    "from norse.torch.functional import receptive_field\n",
    "import importlib\n",
    "importlib.reload(receptive_field)"
   ]
  },
  {
   "cell_type": "code",
   "execution_count": 49,
   "metadata": {},
   "outputs": [],
   "source": [
    "def kernel_color_norm(k):\n",
    "    vmin = min(k.min(), -1e-5)\n",
    "    vmax = max(k.max(), 1e-5)\n",
    "    return matplotlib.colors.TwoSlopeNorm(vcenter=0, vmin=vmin, vmax=vmax)\n",
    "\n",
    "def plot_rings(rings, rows=None, cols=None, **kwargs):\n",
    "    kernels = rings.clone()\n",
    "    if kernels.ndim == 4:\n",
    "        kernels = kernels.flatten(0, 1)\n",
    "    s = math.sqrt(kernels.shape[0])\n",
    "    plot_ratio = s / math.sqrt(2)\n",
    "    if rows is None:\n",
    "      rows = math.ceil(plot_ratio)\n",
    "    if cols is None:\n",
    "      cols = math.ceil(kernels.shape[0] / plot_ratio)\n",
    "    fig = plt.figure(**kwargs)\n",
    "    for i in range(kernels.shape[0]):\n",
    "        ax = fig.add_subplot(rows, cols, i + 1)\n",
    "        norm = kernel_color_norm(kernels[i])\n",
    "        ax.imshow(kernels[i], cmap=\"bwr\", norm=norm)\n",
    "        ax.set_xticks([])\n",
    "        ax.set_yticks([])\n"
   ]
  },
  {
   "cell_type": "code",
   "execution_count": 50,
   "metadata": {},
   "outputs": [
    {
     "name": "stdout",
     "output_type": "stream",
     "text": [
      "13.5\n"
     ]
    },
    {
     "data": {
      "image/png": "[encoded data removed]",
      "text/plain": [
       "<Figure size 640x480 with 27 Axes>"
      ]
     },
     "metadata": {},
     "output_type": "display_data"
    }
   ],
   "source": [
    "plot_rings(receptive_field.spatial_receptive_fields_with_derivatives(3, 2, 2, 11, [(0, 0), (0, 1), (1, 1)]), rows=3, cols=9)"
   ]
  }
 ],
 "metadata": {
  "kernelspec": {
   "display_name": ".venv",
   "language": "python",
   "name": "python3"
  },
  "language_info": {
   "codemirror_mode": {
    "name": "ipython",
    "version": 3
   },
   "file_extension": ".py",
   "mimetype": "text/x-python",
   "name": "python",
   "nbconvert_exporter": "python",
   "pygments_lexer": "ipython3",
   "version": "3.9.12"
  },
  "orig_nbformat": 4
 },
 "nbformat": 4,
 "nbformat_minor": 2
}
