{
 "cells": [
  {
   "cell_type": "markdown",
   "metadata": {},
   "source": [
    "## Setup: Installing prerequisites"
   ]
  },
  {
   "cell_type": "code",
   "execution_count": 1,
   "metadata": {},
   "outputs": [],
   "source": [
    "!pip install -q matplotlib numpy scipy tqdm"
   ]
  },
  {
   "cell_type": "code",
   "execution_count": 2,
   "metadata": {
    "colab": {
     "base_uri": "https://localhost:8080/",
     "height": 34
    },
    "colab_type": "code",
    "id": "DPb7tCeX2Jkb",
    "outputId": "6b3dfc84-398a-435c-beb1-f6307a5e1124"
   },
   "outputs": [],
   "source": [
    "!pip install -qU git+https://github.com/norse/norse"
   ]
  },
  {
   "cell_type": "code",
   "execution_count": 3,
   "metadata": {
    "colab": {},
    "colab_type": "code",
    "id": "wu93JGgT2CJ2"
   },
   "outputs": [],
   "source": [
    "import torch\n",
    "import numpy as np\n",
    "import matplotlib.pyplot as plt"
   ]
  },
  {
   "cell_type": "markdown",
   "metadata": {
    "colab_type": "text",
    "id": "YrZ71gW94b1O"
   },
   "source": [
    "## Integrating point neuron model equations\n",
    "\n",
    "Spiking neuron models given as (typically very simple) systems of ordinary differential\n",
    "equations,\n",
    "\\begin{align*}\n",
    "\\dot{v} &= -(v - v_\\text{reset}) + I \\\\\n",
    "\\dot{I} &= -I + I_\\text{in}\n",
    "\\end{align*}\n",
    "together with jump and transition equations, that specify when a jump occurs and\n",
    "how the state variables change. A prototypical equation is a leaky integrator\n",
    "with constant current input $I_\\text{in}$, with jump condition $v - 1 = 0$ and transition equation $v^+ - v^- = -1$.\n"
   ]
  },
  {
   "cell_type": "code",
   "execution_count": 4,
   "metadata": {
    "colab": {
     "base_uri": "https://localhost:8080/",
     "height": 279
    },
    "colab_type": "code",
    "id": "ZzPRyc8E2M8a",
    "outputId": "952c1965-2204-4bc3-fe0f-17fba4995a96"
   },
   "outputs": [
    {
     "data": {
      "image/png": "[encoded data removed]",
      "text/plain": [
       "<Figure size 432x288 with 1 Axes>"
      ]
     },
     "metadata": {
      "needs_background": "light"
     },
     "output_type": "display_data"
    }
   ],
   "source": [
    "from norse.torch.functional.lif import lif_step, lif_feed_forward_step, lif_current_encoder, LIFParameters\n",
    "\n",
    "NEURONS = 1 # number of neurons to consider\n",
    "TIMESTEPS = 100 # number of timesteps to integrate\n",
    "\n",
    "parameters = LIFParameters()\n",
    "membrane_voltage = torch.zeros(NEURONS) # initial membrane voltage\n",
    "input_current = 1.1 * torch.ones(NEURONS)\n",
    "\n",
    "voltages = []\n",
    "\n",
    "for _ in range(TIMESTEPS):\n",
    "  spikes, membrane_voltage = lif_current_encoder(input_current, membrane_voltage, parameters)\n",
    "  voltages.append(membrane_voltage)\n",
    "\n",
    "voltages = torch.stack(voltages)\n",
    "\n",
    "plt.ylabel(\"v\")\n",
    "plt.xlabel(\"time [ms]\")\n",
    "plt.plot(voltages)\n",
    "plt.show()"
   ]
  },
  {
   "cell_type": "markdown",
   "metadata": {
    "colab_type": "text",
    "id": "MOYVGOvhrDty"
   },
   "source": [
    "## MNIST dataset"
   ]
  },
  {
   "cell_type": "code",
   "execution_count": 5,
   "metadata": {
    "colab": {
     "base_uri": "https://localhost:8080/",
     "height": 255
    },
    "colab_type": "code",
    "id": "RPs81D-QrFWV",
    "outputId": "44a63b0a-8aec-4eb0-b954-649e609d5d09"
   },
   "outputs": [],
   "source": [
    "import torchvision\n",
    "\n",
    "BATCH_SIZE = 32\n",
    "\n",
    "transform = torchvision.transforms.Compose(\n",
    "    [\n",
    "        torchvision.transforms.ToTensor(),\n",
    "        torchvision.transforms.Normalize((0.1307,), (0.3081,)),\n",
    "    ]\n",
    ")\n",
    "\n",
    "train_loader = torch.utils.data.DataLoader(\n",
    "    torchvision.datasets.MNIST(\n",
    "        root=\".\",\n",
    "        train=True,\n",
    "        download=True,\n",
    "        transform=transform,\n",
    "    ),\n",
    "    batch_size=BATCH_SIZE,\n",
    "    shuffle=True\n",
    ")\n",
    "\n",
    "test_loader = torch.utils.data.DataLoader(\n",
    "    torchvision.datasets.MNIST(\n",
    "        root=\".\",\n",
    "        train=False,\n",
    "        transform=transform,\n",
    "    ),\n",
    "    batch_size=BATCH_SIZE\n",
    ")"
   ]
  },
  {
   "cell_type": "markdown",
   "metadata": {
    "colab_type": "text",
    "id": "c_STHa4ethi4"
   },
   "source": [
    "## Defining a Network\n",
    "\n",
    "One of the distinguishing features of spiking neural networks is that they\n",
    "operate on temporal data encoded as spikes. Common datasets in machine learning\n",
    "of course don't use such an encoding and therefore make a encoding step necessary. Here we choose to treat the grayscale value of an MNIST image\n",
    "as a constant current to produce input spikes to the rest of the network.\n",
    "Another option would be to interpret the grayscale value as a spike probabilty\n",
    "at each timestep.\n"
   ]
  },
  {
   "cell_type": "code",
   "execution_count": 6,
   "metadata": {
    "colab": {},
    "colab_type": "code",
    "id": "BHwqgEFvZaoQ"
   },
   "outputs": [],
   "source": [
    "from norse.torch.module.lif import LIFConstantCurrentEncoder\n",
    "\n",
    "class Encoder(torch.nn.Module):\n",
    "    def __init__(self, seq_length, device):\n",
    "        super(Encoder, self).__init__()\n",
    "        self.constant_current_encoder = LIFConstantCurrentEncoder(\n",
    "            seq_length=seq_length, device=device\n",
    "        )\n",
    "\n",
    "    def forward(self, x):\n",
    "        _, x = self.constant_current_encoder(x)\n",
    "        return x"
   ]
  },
  {
   "cell_type": "markdown",
   "metadata": {
    "colab_type": "text",
    "id": "cNEqcSNH2WfP"
   },
   "source": [
    "Once the data is encoded into spikes, a spiking neural network can be constructed in the same way as a one would construct a recurrent neural network.\n",
    "Here we define a spiking neural network with one recurrently connected layer\n",
    "with `hidden_features` LIF neurons and a readout layer with `output_features` and leaky-integrators. As you can see, we can freely combine spiking neural network primitives with ordinary `torch.nn.Module` layers."
   ]
  },
  {
   "cell_type": "code",
   "execution_count": 7,
   "metadata": {
    "colab": {},
    "colab_type": "code",
    "id": "qN9Sm4rJtgc7"
   },
   "outputs": [],
   "source": [
    "from norse.torch.module.lif import LIFCell, LIFParameters, LIFFeedForwardCell\n",
    "from norse.torch.module.leaky_integrator import LIFeedForwardCell\n",
    "\n",
    "class SNN(torch.nn.Module):\n",
    "    def __init__(self, input_features, hidden_features, output_features):\n",
    "        super(SNN, self).__init__()\n",
    "        self.l1 = LIFCell(\n",
    "            input_features,\n",
    "            hidden_features,\n",
    "            p=LIFParameters(alpha=100)                        \n",
    "        )\n",
    "        self.input_features = input_features\n",
    "        self.fc_out = torch.nn.Linear(hidden_features, output_features, bias=False)\n",
    "        self.out = LIFeedForwardCell(shape=(output_features,))\n",
    "\n",
    "        \n",
    "    def forward(self, x):\n",
    "        seq_length, batch_size, _, _, _ = x.shape\n",
    "        s1 = self.l1.initial_state(batch_size, x.device, torch.float)\n",
    "        so = self.out.initial_state(batch_size, x.device)\n",
    "        voltages = []\n",
    "\n",
    "        for ts in range(seq_length):\n",
    "            # z is the output after non-linearity (in our case spikes)\n",
    "            z = x[ts, :, :, :].view(-1, self.input_features)\n",
    "            z, s1 = self.l1(z, s1) # overriding spikes (z) and state (s1)\n",
    "            z = self.fc_out(z)\n",
    "            vo, so = self.out(z, so)\n",
    "            voltages += [vo]\n",
    "\n",
    "        return torch.stack(voltages)"
   ]
  },
  {
   "cell_type": "markdown",
   "metadata": {
    "colab_type": "text",
    "id": "xq1mvp0ffIsI"
   },
   "source": [
    "The output of the network we have defined are $10$ membrane voltage traces. What remains to do is to interpret those as a probabilty distribution. One way of doing so is to determine the maximum along the time dimension and to then compute the softmax of these values. There are other options of course, for example to consider\n",
    "the average membrane voltage in a given time window or use a LIF neuron output layer and consider the time to first spike."
   ]
  },
  {
   "cell_type": "code",
   "execution_count": 8,
   "metadata": {
    "colab": {},
    "colab_type": "code",
    "id": "6j0wbwEmfbIw"
   },
   "outputs": [],
   "source": [
    "def decode(x):\n",
    "    x, _ = torch.max(x, 0)\n",
    "    log_p_y = torch.nn.functional.log_softmax(x, dim=1)\n",
    "    return log_p_y"
   ]
  },
  {
   "cell_type": "markdown",
   "metadata": {
    "colab_type": "text",
    "id": "K1jcJ7LnrlUi"
   },
   "source": [
    "The final model is then simply the sequential composition of these three steps: Encoding, a spiking neural network and decoding."
   ]
  },
  {
   "cell_type": "code",
   "execution_count": 9,
   "metadata": {
    "colab": {},
    "colab_type": "code",
    "id": "qRdRp3ZfAYIw"
   },
   "outputs": [],
   "source": [
    "class Model(torch.nn.Module):\n",
    "    def __init__(self, encoder, snn, decoder):\n",
    "        super(Model, self).__init__()\n",
    "        self.encoder = encoder\n",
    "        self.snn = snn\n",
    "        self.decoder = decoder\n",
    "\n",
    "    def forward(self, x):\n",
    "        x = self.encoder(x)\n",
    "        x = self.snn(x)\n",
    "        log_p_y = self.decoder(x)\n",
    "        return log_p_y"
   ]
  },
  {
   "cell_type": "markdown",
   "metadata": {
    "colab_type": "text",
    "id": "vqxyhc_5Xpfg"
   },
   "source": [
    "We can then instantiate the model with the recurrent ```SNN``` network defined above."
   ]
  },
  {
   "cell_type": "code",
   "execution_count": 10,
   "metadata": {
    "colab": {
     "base_uri": "https://localhost:8080/",
     "height": 207
    },
    "colab_type": "code",
    "id": "C4QeDXL9_qaB",
    "outputId": "4a27651d-3e92-4744-d5d4-b0ec99719ccc"
   },
   "outputs": [
    {
     "data": {
      "text/plain": [
       "Model(\n",
       "  (encoder): Encoder(\n",
       "    (constant_current_encoder): LIFConstantCurrentEncoder()\n",
       "  )\n",
       "  (snn): SNN(\n",
       "    (l1): LIFCell(784, 100, p=LIFParameters(tau_syn_inv=tensor(200.), tau_mem_inv=tensor(100.), v_leak=tensor(0.), v_th=tensor(1.), v_reset=tensor(0.), method='super', alpha=100), dt=0.001)\n",
       "    (fc_out): Linear(in_features=100, out_features=10, bias=False)\n",
       "    (out): LIFeedForwardCell()\n",
       "  )\n",
       ")"
      ]
     },
     "execution_count": 10,
     "metadata": {},
     "output_type": "execute_result"
    }
   ],
   "source": [
    "T = 200\n",
    "DEVICE = torch.device(\"cuda\")\n",
    "LR = 0.002\n",
    "INPUT_FEATURES = 28*28\n",
    "HIDDEN_FEATURES = 100\n",
    "OUTPUT_FEATURES = 10\n",
    "\n",
    "model = Model(\n",
    "    encoder=Encoder(\n",
    "      device=DEVICE,\n",
    "      seq_length=T,\n",
    "    ),\n",
    "    snn=SNN(\n",
    "      input_features=INPUT_FEATURES,\n",
    "      hidden_features=HIDDEN_FEATURES,\n",
    "      output_features=OUTPUT_FEATURES\n",
    "    ),\n",
    "    decoder=decode\n",
    ").to(DEVICE)\n",
    "\n",
    "optimizer = torch.optim.Adam(model.parameters(), lr=LR)\n",
    "model"
   ]
  },
  {
   "cell_type": "markdown",
   "metadata": {
    "colab_type": "text",
    "id": "rM5btRjKdEEv"
   },
   "source": [
    "What remains to do is to setup training and test code. This code is completely independent of the fact that we are training a spiking neural network and in fact has been largely copied from the pytorch tutorials."
   ]
  },
  {
   "cell_type": "code",
   "execution_count": 11,
   "metadata": {
    "colab": {},
    "colab_type": "code",
    "id": "SXgntmL_rvHO"
   },
   "outputs": [],
   "source": [
    "from tqdm import tqdm\n",
    "\n",
    "LOG_INTERVAL = 10\n",
    "EPOCHS = 10\n",
    "\n",
    "def train(model, device, train_loader, optimizer, epoch, max_epochs):\n",
    "    model.train()\n",
    "    losses = []\n",
    "\n",
    "    for (data, target) in tqdm(train_loader, leave=True, position=0):\n",
    "        data, target = data.to(device), target.to(device)\n",
    "        optimizer.zero_grad()\n",
    "        output = model(data)\n",
    "        loss = torch.nn.functional.nll_loss(output, target)\n",
    "        loss.backward()\n",
    "        optimizer.step()\n",
    "        losses.append(loss.item())\n",
    "\n",
    "    mean_loss = np.mean(losses)\n",
    "    return losses, mean_loss"
   ]
  },
  {
   "cell_type": "markdown",
   "metadata": {
    "colab_type": "text",
    "id": "KtdcQi_18Xip"
   },
   "source": [
    "Just like the training function, the test function is standard boilerplate, common with any other supervised learning task."
   ]
  },
  {
   "cell_type": "code",
   "execution_count": 12,
   "metadata": {
    "colab": {},
    "colab_type": "code",
    "id": "Gca4ZzatApWD"
   },
   "outputs": [],
   "source": [
    "def test(model, device, test_loader, epoch):\n",
    "    model.eval()\n",
    "    test_loss = 0\n",
    "    correct = 0\n",
    "    with torch.no_grad():\n",
    "        for data, target in test_loader:\n",
    "            data, target = data.to(device), target.to(device)\n",
    "            output = model(data)\n",
    "            test_loss += torch.nn.functional.nll_loss(\n",
    "                output, target, reduction=\"sum\"\n",
    "            ).item()  # sum up batch loss\n",
    "            pred = output.argmax(\n",
    "                dim=1, keepdim=True\n",
    "            )  # get the index of the max log-probability\n",
    "            correct += pred.eq(target.view_as(pred)).sum().item()\n",
    "\n",
    "    test_loss /= len(test_loader.dataset)\n",
    "\n",
    "    accuracy = 100.0 * correct / len(test_loader.dataset)\n",
    "\n",
    "    return test_loss, accuracy"
   ]
  },
  {
   "cell_type": "markdown",
   "metadata": {
    "colab_type": "text",
    "id": "r4sGruNn8w49"
   },
   "source": [
    "As is the the outer training loop."
   ]
  },
  {
   "cell_type": "code",
   "execution_count": 13,
   "metadata": {
    "colab": {
     "base_uri": "https://localhost:8080/",
     "height": 392
    },
    "colab_type": "code",
    "id": "wU-b7Q8eBVca",
    "outputId": "7469a1a5-7ac9-4675-8c20-c91c04c1a1f0"
   },
   "outputs": [
    {
     "name": "stderr",
     "output_type": "stream",
     "text": [
      "100%|██████████| 1875/1875 [07:43<00:00,  4.05it/s]\n"
     ]
    },
    {
     "name": "stdout",
     "output_type": "stream",
     "text": [
      "epoch: 0, mean_loss: 0.3629160894592603, test_loss: 0.21168936722278595, accuracy: 93.37\n"
     ]
    },
    {
     "name": "stderr",
     "output_type": "stream",
     "text": [
      "100%|██████████| 1875/1875 [07:33<00:00,  4.13it/s]\n"
     ]
    },
    {
     "name": "stdout",
     "output_type": "stream",
     "text": [
      "epoch: 1, mean_loss: 0.19201936953862508, test_loss: 0.18060281460285188, accuracy: 94.32\n"
     ]
    },
    {
     "name": "stderr",
     "output_type": "stream",
     "text": [
      "100%|██████████| 1875/1875 [07:30<00:00,  4.17it/s]\n"
     ]
    },
    {
     "name": "stdout",
     "output_type": "stream",
     "text": [
      "epoch: 2, mean_loss: 0.15247196645140648, test_loss: 0.14794782090187072, accuracy: 95.41\n"
     ]
    },
    {
     "name": "stderr",
     "output_type": "stream",
     "text": [
      "100%|██████████| 1875/1875 [07:35<00:00,  4.11it/s]\n"
     ]
    },
    {
     "name": "stdout",
     "output_type": "stream",
     "text": [
      "epoch: 3, mean_loss: 0.12747577157815299, test_loss: 0.15110283935070037, accuracy: 95.39\n"
     ]
    },
    {
     "name": "stderr",
     "output_type": "stream",
     "text": [
      "100%|██████████| 1875/1875 [07:33<00:00,  4.14it/s]\n"
     ]
    },
    {
     "name": "stdout",
     "output_type": "stream",
     "text": [
      "epoch: 4, mean_loss: 0.11261736451784769, test_loss: 0.14069583563804627, accuracy: 95.71\n"
     ]
    },
    {
     "name": "stderr",
     "output_type": "stream",
     "text": [
      "100%|██████████| 1875/1875 [07:22<00:00,  4.24it/s]\n"
     ]
    },
    {
     "name": "stdout",
     "output_type": "stream",
     "text": [
      "epoch: 5, mean_loss: 0.1010711957414945, test_loss: 0.13950968656539917, accuracy: 95.76\n"
     ]
    },
    {
     "name": "stderr",
     "output_type": "stream",
     "text": [
      "100%|██████████| 1875/1875 [07:15<00:00,  4.31it/s]\n"
     ]
    },
    {
     "name": "stdout",
     "output_type": "stream",
     "text": [
      "epoch: 6, mean_loss: 0.09722547367811203, test_loss: 0.12875575177669527, accuracy: 96.05\n"
     ]
    },
    {
     "name": "stderr",
     "output_type": "stream",
     "text": [
      "100%|██████████| 1875/1875 [07:15<00:00,  4.30it/s]\n"
     ]
    },
    {
     "name": "stdout",
     "output_type": "stream",
     "text": [
      "epoch: 7, mean_loss: 0.08812225683132807, test_loss: 0.1280750486135483, accuracy: 96.06\n"
     ]
    },
    {
     "name": "stderr",
     "output_type": "stream",
     "text": [
      "100%|██████████| 1875/1875 [07:10<00:00,  4.35it/s]\n"
     ]
    },
    {
     "name": "stdout",
     "output_type": "stream",
     "text": [
      "epoch: 8, mean_loss: 0.07969726561307908, test_loss: 0.11319727609157562, accuracy: 96.47\n"
     ]
    },
    {
     "name": "stderr",
     "output_type": "stream",
     "text": [
      "100%|██████████| 1875/1875 [07:14<00:00,  4.31it/s]\n"
     ]
    },
    {
     "name": "stdout",
     "output_type": "stream",
     "text": [
      "epoch: 9, mean_loss: 0.07368663366238276, test_loss: 0.11624139378070832, accuracy: 96.37\n"
     ]
    }
   ],
   "source": [
    "training_losses = []\n",
    "mean_losses = []\n",
    "test_losses = []\n",
    "accuracies = []\n",
    "\n",
    "for epoch in range(EPOCHS):\n",
    "    training_loss, mean_loss = train(model, DEVICE, train_loader, optimizer, epoch, max_epochs=EPOCHS)\n",
    "    test_loss, accuracy = test(model, DEVICE, test_loader, epoch)\n",
    "    training_losses += training_loss\n",
    "    mean_losses.append(mean_loss)\n",
    "    test_losses.append(test_loss)\n",
    "    accuracies.append(accuracy)       \n",
    "    print(f\"epoch: {epoch}, mean_loss: {mean_loss}, test_loss: {test_loss}, accuracy: {accuracy}\", flush=True)"
   ]
  },
  {
   "cell_type": "markdown",
   "metadata": {
    "colab_type": "text",
    "id": "V2iFlyC-r40a"
   },
   "source": [
    "## Convolutional Networks\n",
    "\n",
    "The simple two layer recurrent spiking neural network we've defined above achieves a respectable ~96.5% accuracy after 10 training epochs. One common way\n",
    "to improve on this performance is to use convolutional neural networks. We define here two convolutional layers and one spiking classification layer. Just as in the recurrent spiking neural network before, we use a non-spiking leaky integrator for readout.\n",
    "\n",
    "The ```torch.nn.functional.max_pool2d``` on binary values is a logical ```or``` operation on its inputs. \n"
   ]
  },
  {
   "cell_type": "code",
   "execution_count": 14,
   "metadata": {
    "colab": {},
    "colab_type": "code",
    "id": "BEcU9GMdBc8r"
   },
   "outputs": [],
   "source": [
    "from norse.torch.module.leaky_integrator import LICell\n",
    "\n",
    "class ConvNet(torch.nn.Module):\n",
    "    def __init__(\n",
    "        self,  num_channels=1, feature_size=28, method=\"super\", alpha=100\n",
    "    ):\n",
    "        super(ConvNet, self).__init__()\n",
    "        self.features = int(((feature_size - 4) / 2 - 4) / 2)\n",
    "\n",
    "        self.conv1 = torch.nn.Conv2d(num_channels, 32, 5, 1)\n",
    "        self.conv2 = torch.nn.Conv2d(32, 64, 5, 1)\n",
    "        self.fc1 = torch.nn.Linear(self.features * self.features * 64, 1024)\n",
    "        self.lif0 = LIFFeedForwardCell(\n",
    "            (32, feature_size - 4, feature_size - 4),\n",
    "            p=LIFParameters(method=method, alpha=alpha),\n",
    "        )\n",
    "        self.lif1 = LIFFeedForwardCell(\n",
    "            (64, int((feature_size - 4) / 2) - 4, int((feature_size - 4) / 2) - 4),\n",
    "            p=LIFParameters(method=method, alpha=alpha),\n",
    "        )\n",
    "        self.lif2 = LIFFeedForwardCell(\n",
    "            (1024,), p=LIFParameters(method=method, alpha=alpha)\n",
    "        )\n",
    "        self.out = LICell(1024, 10)\n",
    "\n",
    "    def forward(self, x):\n",
    "        seq_length = x.shape[0]\n",
    "        batch_size = x.shape[1]\n",
    "\n",
    "        # specify the initial states\n",
    "        s0 = self.lif0.initial_state(batch_size, device=x.device, dtype=x.dtype)\n",
    "        s1 = self.lif1.initial_state(batch_size, device=x.device, dtype=x.dtype)\n",
    "        s2 = self.lif2.initial_state(batch_size, device=x.device, dtype=x.dtype)\n",
    "        so = self.out.initial_state(batch_size,  device=x.device, dtype=x.dtype)\n",
    "\n",
    "        voltages = torch.zeros(\n",
    "            seq_length, batch_size, 10, device=x.device, dtype=x.dtype\n",
    "        )\n",
    "\n",
    "        for ts in range(seq_length):\n",
    "            z = self.conv1(x[ts, :])\n",
    "            z, s0 = self.lif0(z, s0)\n",
    "            z = torch.nn.functional.max_pool2d(z, 2, 2)\n",
    "            z = 10 * self.conv2(z)\n",
    "            z, s1 = self.lif1(z, s1)\n",
    "            z = torch.nn.functional.max_pool2d(z, 2, 2)\n",
    "            z = z.view(-1, self.features ** 2 * 64)\n",
    "            z = self.fc1(z)\n",
    "            z, s2 = self.lif2(z, s2)\n",
    "            v, so = self.out(torch.nn.functional.relu(z), so)\n",
    "            voltages[ts, :, :] = v\n",
    "        return voltages"
   ]
  },
  {
   "cell_type": "code",
   "execution_count": 15,
   "metadata": {
    "colab": {
     "base_uri": "https://localhost:8080/",
     "height": 275
    },
    "colab_type": "code",
    "id": "F0ZP9KzzUKiG",
    "outputId": "a2fd1a50-eecb-4001-f7ac-cdeb23dc0208"
   },
   "outputs": [
    {
     "data": {
      "text/plain": [
       "Model(\n",
       "  (encoder): Encoder(\n",
       "    (constant_current_encoder): LIFConstantCurrentEncoder()\n",
       "  )\n",
       "  (snn): ConvNet(\n",
       "    (conv1): Conv2d(1, 32, kernel_size=(5, 5), stride=(1, 1))\n",
       "    (conv2): Conv2d(32, 64, kernel_size=(5, 5), stride=(1, 1))\n",
       "    (fc1): Linear(in_features=1024, out_features=1024, bias=True)\n",
       "    (lif0): LIFFeedForwardCell((32, 24, 24), p=LIFParameters(tau_syn_inv=tensor(200.), tau_mem_inv=tensor(100.), v_leak=tensor(0.), v_th=tensor(1.), v_reset=tensor(0.), method='super', alpha=100), dt=0.001)\n",
       "    (lif1): LIFFeedForwardCell((64, 8, 8), p=LIFParameters(tau_syn_inv=tensor(200.), tau_mem_inv=tensor(100.), v_leak=tensor(0.), v_th=tensor(1.), v_reset=tensor(0.), method='super', alpha=100), dt=0.001)\n",
       "    (lif2): LIFFeedForwardCell((1024,), p=LIFParameters(tau_syn_inv=tensor(200.), tau_mem_inv=tensor(100.), v_leak=tensor(0.), v_th=tensor(1.), v_reset=tensor(0.), method='super', alpha=100), dt=0.001)\n",
       "    (out): LICell()\n",
       "  )\n",
       ")"
      ]
     },
     "execution_count": 15,
     "metadata": {},
     "output_type": "execute_result"
    }
   ],
   "source": [
    "T = 64\n",
    "DEVICE = torch.device(\"cuda\")\n",
    "LR = 0.002\n",
    "\n",
    "model = Model(\n",
    "    encoder=Encoder(\n",
    "      device=DEVICE,\n",
    "      seq_length=T\n",
    "    ),\n",
    "    snn=ConvNet(alpha=100),\n",
    "    decoder=decode\n",
    ").to(DEVICE)\n",
    "\n",
    "optimizer = torch.optim.Adam(model.parameters(), lr=LR)\n",
    "model"
   ]
  },
  {
   "cell_type": "code",
   "execution_count": 16,
   "metadata": {
    "colab": {
     "base_uri": "https://localhost:8080/",
     "height": 102
    },
    "colab_type": "code",
    "id": "IL46G6sdVxoN",
    "outputId": "95538eff-6a8e-4006-8101-e98b3b5d7323"
   },
   "outputs": [
    {
     "name": "stderr",
     "output_type": "stream",
     "text": [
      "100%|██████████| 1875/1875 [07:07<00:00,  4.38it/s]\n"
     ]
    },
    {
     "name": "stdout",
     "output_type": "stream",
     "text": [
      "epoch: 0, mean_loss: 0.19685819344917932, test_loss: 0.11163614857196807, accuracy: 96.76\n"
     ]
    },
    {
     "name": "stderr",
     "output_type": "stream",
     "text": [
      "100%|██████████| 1875/1875 [07:22<00:00,  4.24it/s]\n"
     ]
    },
    {
     "name": "stdout",
     "output_type": "stream",
     "text": [
      "epoch: 1, mean_loss: 0.09271120906273524, test_loss: 0.08354638237953187, accuracy: 97.29\n"
     ]
    },
    {
     "name": "stderr",
     "output_type": "stream",
     "text": [
      "100%|██████████| 1875/1875 [07:22<00:00,  4.24it/s]\n"
     ]
    },
    {
     "name": "stdout",
     "output_type": "stream",
     "text": [
      "epoch: 2, mean_loss: 0.08677266448140145, test_loss: 0.09342524213790894, accuracy: 97.45\n"
     ]
    },
    {
     "name": "stderr",
     "output_type": "stream",
     "text": [
      "100%|██████████| 1875/1875 [07:17<00:00,  4.28it/s]\n"
     ]
    },
    {
     "name": "stdout",
     "output_type": "stream",
     "text": [
      "epoch: 3, mean_loss: 0.08121883135437966, test_loss: 0.08498016941547394, accuracy: 97.54\n"
     ]
    },
    {
     "name": "stderr",
     "output_type": "stream",
     "text": [
      "100%|██████████| 1875/1875 [07:18<00:00,  4.27it/s]\n"
     ]
    },
    {
     "name": "stdout",
     "output_type": "stream",
     "text": [
      "epoch: 4, mean_loss: 0.0794979229549567, test_loss: 0.060922630965709684, accuracy: 98.43\n"
     ]
    },
    {
     "name": "stderr",
     "output_type": "stream",
     "text": [
      "100%|██████████| 1875/1875 [07:19<00:00,  4.27it/s]\n"
     ]
    },
    {
     "name": "stdout",
     "output_type": "stream",
     "text": [
      "epoch: 5, mean_loss: 0.0868603441218535, test_loss: 0.09532502646446228, accuracy: 97.2\n"
     ]
    },
    {
     "name": "stderr",
     "output_type": "stream",
     "text": [
      "100%|██████████| 1875/1875 [07:22<00:00,  4.24it/s]\n"
     ]
    },
    {
     "name": "stdout",
     "output_type": "stream",
     "text": [
      "epoch: 6, mean_loss: 0.07598763748804728, test_loss: 0.1016629499912262, accuracy: 97.17\n"
     ]
    },
    {
     "name": "stderr",
     "output_type": "stream",
     "text": [
      "100%|██████████| 1875/1875 [07:21<00:00,  4.25it/s]\n"
     ]
    },
    {
     "name": "stdout",
     "output_type": "stream",
     "text": [
      "epoch: 7, mean_loss: 0.09598577121297519, test_loss: 0.09563183274269103, accuracy: 97.07\n"
     ]
    },
    {
     "name": "stderr",
     "output_type": "stream",
     "text": [
      "100%|██████████| 1875/1875 [07:51<00:00,  3.98it/s]\n"
     ]
    },
    {
     "name": "stdout",
     "output_type": "stream",
     "text": [
      "epoch: 8, mean_loss: 0.10377142034769059, test_loss: 0.10962622475624084, accuracy: 96.88\n"
     ]
    },
    {
     "name": "stderr",
     "output_type": "stream",
     "text": [
      "100%|██████████| 1875/1875 [08:16<00:00,  3.78it/s]\n"
     ]
    },
    {
     "name": "stdout",
     "output_type": "stream",
     "text": [
      "epoch: 9, mean_loss: 0.08904690730571747, test_loss: 0.08048208947181702, accuracy: 97.6\n"
     ]
    }
   ],
   "source": [
    "training_losses = []\n",
    "mean_losses = []\n",
    "test_losses = []\n",
    "accuracies = []\n",
    "\n",
    "for epoch in range(EPOCHS):\n",
    "    training_loss, mean_loss = train(model, DEVICE, train_loader, optimizer, epoch, max_epochs=EPOCHS)\n",
    "    test_loss, accuracy = test(model, DEVICE, test_loader, epoch)\n",
    "    training_losses += training_loss\n",
    "    mean_losses.append(mean_loss)\n",
    "    test_losses.append(test_loss)\n",
    "    accuracies.append(accuracy)       \n",
    "    print(f\"epoch: {epoch}, mean_loss: {mean_loss}, test_loss: {test_loss}, accuracy: {accuracy}\", flush=True)"
   ]
  },
  {
   "cell_type": "markdown",
   "metadata": {},
   "source": [
    "## Summary\n",
    "\n",
    "This concludes the tutorial on [Norse](https://norse.ai). For more information, please refer to our [GitHub page](https://github.com/norse/norse) or [our documentation](https://norse.ai/docs/).\n",
    "\n",
    "The notebook here was run with an Nvidia GTX 1060 GPU (medium- to low-end as of 2020), and takes significantly more time than similar convolutional neural networks. However, the maximum accuracy of 98.4% is close to industry standard."
   ]
  }
 ],
 "metadata": {
  "accelerator": "GPU",
  "colab": {
   "collapsed_sections": [],
   "name": "norse-tutorial.ipynb",
   "provenance": []
  },
  "kernelspec": {
   "display_name": "Python 3",
   "language": "python",
   "name": "python3"
  },
  "language_info": {
   "codemirror_mode": {
    "name": "ipython",
    "version": 3
   },
   "file_extension": ".py",
   "mimetype": "text/x-python",
   "name": "python",
   "nbconvert_exporter": "python",
   "pygments_lexer": "ipython3",
   "version": "3.7.3"
  }
 },
 "nbformat": 4,
 "nbformat_minor": 1
}
