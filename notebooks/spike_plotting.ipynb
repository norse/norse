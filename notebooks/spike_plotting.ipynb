{
 "cells": [
  {
   "cell_type": "markdown",
   "metadata": {},
   "source": [
    "# Notebook for simulating and plotting spikes\n",
    "\n",
    "This notebook shows you how to simulate single neurons and plot their spikes. We focus on understandability, not efficiency, so note that the code could be much more efficient.\n",
    "\n",
    "First of all we need to install some prerequisites:"
   ]
  },
  {
   "cell_type": "code",
   "execution_count": 1,
   "metadata": {},
   "outputs": [],
   "source": [
    "!pip install -q matplotlib numpy scipy tqdm"
   ]
  },
  {
   "cell_type": "code",
   "execution_count": 2,
   "metadata": {
    "colab": {
     "base_uri": "https://localhost:8080/",
     "height": 34
    },
    "colab_type": "code",
    "id": "DPb7tCeX2Jkb",
    "outputId": "6b3dfc84-398a-435c-beb1-f6307a5e1124"
   },
   "outputs": [],
   "source": [
    "#!pip install -qU git+https://github.com/norse/norse"
   ]
  },
  {
   "cell_type": "code",
   "execution_count": 3,
   "metadata": {},
   "outputs": [],
   "source": [
    "from norse.torch.module.lif import LIFFeedForwardCell\n",
    "import torch\n",
    "import numpy as np\n",
    "from tqdm import tqdm"
   ]
  },
  {
   "cell_type": "markdown",
   "metadata": {},
   "source": [
    "## Creating 10 leaky integrate-and-fire (LIF) neurons\n",
    "\n",
    "To start simulating we need 10 neurons with a default state (`lif_state`) of, say, 1. The neurons will receive currents as inputs, and produce spikes as outputs. Note that both the `lif_state` variable contains a list of the state for each 10 neurons. That will be important later."
   ]
  },
  {
   "cell_type": "code",
   "execution_count": 4,
   "metadata": {},
   "outputs": [],
   "source": [
    "lif_cell = LIFFeedForwardCell([10])\n",
    "lif_state = lif_cell.initial_state(1, \"cpu\")"
   ]
  },
  {
   "cell_type": "markdown",
   "metadata": {},
   "source": [
    "## Creating data for the 10 neurons\n",
    "\n",
    "To illustrate how a LIF neuron works, we wil simulate 100 timesteps. Each of the 10 neurons (indexed from 0 to 9) will receive the same input at every timestep. In the setup below, the input voltages follow the formula $i_n * 0.2$, where $i_n$ is the neuron index. Meaning, neuron 0 will receive an input of 0 for each timestep, so we do not expect that to spike. Neuron 1 will receive 0.2, so that *could* be enough for it to spike. Neuron 9 will receive an input of 1.80 every timestep, so we expect that to spike quite a few times."
   ]
  },
  {
   "cell_type": "code",
   "execution_count": 5,
   "metadata": {},
   "outputs": [],
   "source": [
    "timesteps = 100\n",
    "data_in = np.array([np.zeros(timesteps) + i for i in np.arange(0, 2, 0.2)]).T"
   ]
  },
  {
   "cell_type": "markdown",
   "metadata": {},
   "source": [
    "## Running the simulation\n",
    "\n",
    "To run the simulation, we prepare a list of spikes and a state-variable, where the neuron states will be updated in. Remember that the `lif_state` variable contains 10 separate states - one for each neuron. This will be important, because we are giving each neuron a different input current each timestep. During the simulation, the states will update independently, resulting in different behaviours."
   ]
  },
  {
   "cell_type": "code",
   "execution_count": 6,
   "metadata": {},
   "outputs": [
    {
     "name": "stderr",
     "output_type": "stream",
     "text": [
      "100%|██████████| 100/100 [00:00<00:00, 5653.46it/s]\n"
     ]
    }
   ],
   "source": [
    "spikes = []\n",
    "state = lif_state\n",
    "for data in tqdm(data_in):\n",
    "    out, state = lif_cell(data, state)\n",
    "    spikes.append(np.array(out[0]))\n",
    "spikes = np.array(spikes) # Convert the spike list to a Numpy array"
   ]
  },
  {
   "cell_type": "markdown",
   "metadata": {},
   "source": [
    "We now have the spike data as a list of outputs for each timestep. Let's see how it looks at timestep 100:"
   ]
  },
  {
   "cell_type": "code",
   "execution_count": 7,
   "metadata": {},
   "outputs": [
    {
     "data": {
      "text/plain": [
       "array([0., 0., 0., 0., 0., 1., 0., 1., 0., 0.])"
      ]
     },
     "execution_count": 7,
     "metadata": {},
     "output_type": "execute_result"
    }
   ],
   "source": [
    "spikes[99]"
   ]
  },
  {
   "cell_type": "markdown",
   "metadata": {},
   "source": [
    "The data tells us that at timestep 100, neuron 5 and 7 emitted a spike."
   ]
  },
  {
   "cell_type": "markdown",
   "metadata": {},
   "source": [
    "## Plotting the spikes\n",
    "\n",
    "There are likely many more spikes, but it's too much work to go through the array one timestep at the time. A spike plot is much better suited to give us an overview.\n",
    "\n",
    "First, we import matplotlib."
   ]
  },
  {
   "cell_type": "code",
   "execution_count": 8,
   "metadata": {},
   "outputs": [],
   "source": [
    "import matplotlib.pyplot as plt\n",
    "%matplotlib inline"
   ]
  },
  {
   "cell_type": "markdown",
   "metadata": {},
   "source": [
    "Basically, we want to show the timesteps on the x axis and the neuron index on the y axis. Spikes will then be shown as a tuple of (timestep, neuron_index). If there are no spike, we don't have to show anything. \n",
    "\n",
    "Matplotlib's [`.eventplot()`](https://matplotlib.org/api/_as_gen/matplotlib.pyplot.eventplot.html?highlight=eventplot#matplotlib.pyplot.eventplot) is perfect for this. We just have to condense our spikes into a list of neurons, containing the timesteps that it fires. So, for neuron 0 that list will be empty, and for neuron 9 we will have a lot of spikes. The below code arranges that data, and we can see that neuron 5 still fires at timestep 99:"
   ]
  },
  {
   "cell_type": "code",
   "execution_count": 9,
   "metadata": {},
   "outputs": [
    {
     "data": {
      "text/plain": [
       "99"
      ]
     },
     "execution_count": 9,
     "metadata": {},
     "output_type": "execute_result"
    }
   ],
   "source": [
    "spike_data = [[x for x, spike in enumerate(inner_spikes) if spike > 0] for inner_spikes in spikes.T]\n",
    "spike_data[5][-1] # Output the last spike from neuron number 9"
   ]
  },
  {
   "cell_type": "markdown",
   "metadata": {},
   "source": [
    "We are finally ready to plot each neuron starting from 0."
   ]
  },
  {
   "cell_type": "code",
   "execution_count": 10,
   "metadata": {},
   "outputs": [
    {
     "data": {
      "image/png": "[encoded data removed]",
      "text/plain": [
       "<Figure size 720x720 with 1 Axes>"
      ]
     },
     "metadata": {
      "needs_background": "light"
     },
     "output_type": "display_data"
    }
   ],
   "source": [
    "plt.figure(figsize=(10, 10))  # Set figure size \n",
    "plt.xlabel(\"Timestep\")        # Label x axis\n",
    "plt.ylabel(\"Neuron index\")    # Label y axis\n",
    "plt.yticks(list(range(10)))   # Force display all neuron indices\n",
    "for i in range(10):           # Loop i from 0 to 9 (inclusive)\n",
    "    plt.eventplot(spike_data) # Plot the timesteps where the neuron spiked"
   ]
  }
 ],
 "metadata": {
  "kernelspec": {
   "display_name": "Python 3",
   "language": "python",
   "name": "python3"
  },
  "language_info": {
   "codemirror_mode": {
    "name": "ipython",
    "version": 3
   },
   "file_extension": ".py",
   "mimetype": "text/x-python",
   "name": "python",
   "nbconvert_exporter": "python",
   "pygments_lexer": "ipython3",
   "version": "3.7.3"
  }
 },
 "nbformat": 4,
 "nbformat_minor": 4
}
