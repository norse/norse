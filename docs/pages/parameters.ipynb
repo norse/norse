{
 "cells": [
  {
   "cell_type": "markdown",
   "metadata": {},
   "source": [
    "(page-parameter-learning)=\n",
    "\n",
    "# Parameter learning in Spiking Neural Networks\n",
    "Author: Christian Pehle\n",
    "\n",
    "As we have already seen in {ref}`page-spiking` Neuron models come with parameters, such as membrane time constants, which determine their dynamics. While those parameters are often treated as arbitrarily treated constants and therefore *hyperparameters* in a machine learning context, more recently it has become clear that it can be benefitial to treat them as *parameters*. In this notebook, we will first learn how to initialise a network of LIF neurons with distinct, but fixed time constants and voltage thresholds and then how to incorporate them into the optimisation. As we will see, this is largely facilitated by the pre-existing ways of treating parameters in PyTorch."
   ]
  },
  {
   "cell_type": "code",
   "execution_count": 11,
   "metadata": {},
   "outputs": [],
   "source": [
    "import torch\n",
    "import norse\n",
    "import matplotlib.pyplot as plt"
   ]
  },
  {
   "cell_type": "markdown",
   "metadata": {},
   "source": [
    "## Defining a Network of LIF Neurons with varying membrane time-constants\n",
    "\n",
    "A population of recurrently connected LIF neurons can be instantiated in Norse as follows:"
   ]
  },
  {
   "cell_type": "code",
   "execution_count": 58,
   "metadata": {},
   "outputs": [
    {
     "data": {
      "text/plain": [
       "LIFRecurrentCell(input_size=200, hidden_size=100, p=LIFParameters(tau_syn_inv=tensor(200.), tau_mem_inv=tensor(100.), v_leak=tensor(0.), v_th=tensor(1.), v_reset=tensor(0.), method='super', alpha=tensor(100.)), autapses=False, dt=0.001)"
      ]
     },
     "execution_count": 58,
     "metadata": {},
     "output_type": "execute_result"
    }
   ],
   "source": [
    "from norse.torch.module import LIFRecurrentCell\n",
    "\n",
    "m = LIFRecurrentCell(input_size=200, hidden_size=100)\n",
    "m"
   ]
  },
  {
   "cell_type": "markdown",
   "metadata": {},
   "source": [
    "As you can see the `LIFParameters` are initialised to some default values. It is easy enough to instead sample these values from a given distribution. While we will use a random normal distribution here, a more appropriate choice would be for example a lognormal distribution, as this would guarantee that the inverse membrane time constant remains positive, which is an essential requirement. Here we just choose the standard deviation in such a way, that a negative value would be very unlikely."
   ]
  },
  {
   "cell_type": "code",
   "execution_count": 236,
   "metadata": {},
   "outputs": [
    {
     "data": {
      "text/plain": [
       "Text(0.5, 0, '$\\\\tau_{m}^{-1}$ [ms]')"
      ]
     },
     "execution_count": 236,
     "metadata": {},
     "output_type": "execute_result"
    },
    {
     "data": {
      "image/png": "[encoded data removed]",
      "text/plain": [
       "<Figure size 432x288 with 1 Axes>"
      ]
     },
     "metadata": {
      "needs_background": "light"
     },
     "output_type": "display_data"
    }
   ],
   "source": [
    "import numpy as np\n",
    "\n",
    "counts, bins = np.histogram(norse.torch.functional.lif.LIFParameters().tau_mem_inv + 20*torch.randn(100))\n",
    "plt.hist(bins[:-1], bins, weights=counts, histtype='step')\n",
    "plt.xlabel('$\\\\tau_{m}^{-1}$ [ms]')"
   ]
  },
  {
   "cell_type": "markdown",
   "metadata": {},
   "source": [
    "The parameters of a PyTorch module can be accesses by invoking the `parameters` method. In the case of the `LIFRecurrentCell` those are the recurrent and input weight matrices. Note how both tensors have `requires_grad=True` and that the `LIFParameters` do not appear. This is because none of the tensors entering the `LIFParameters` have been registered as a PyTorch Parameter."
   ]
  },
  {
   "cell_type": "code",
   "execution_count": 60,
   "metadata": {},
   "outputs": [
    {
     "data": {
      "text/plain": [
       "[Parameter containing:\n",
       " tensor([[ 0.1287, -0.0703, -0.4601,  ..., -0.0114, -0.0835,  0.1185],\n",
       "         [ 0.0429,  0.0861,  0.2161,  ..., -0.3251, -0.1037, -0.0786],\n",
       "         [-0.3725, -0.0945,  0.1543,  ...,  0.1508, -0.0733,  0.2225],\n",
       "         ...,\n",
       "         [-0.0465, -0.2300, -0.0681,  ..., -0.2809, -0.1205,  0.0732],\n",
       "         [-0.3285, -0.0445,  0.1016,  ..., -0.1084, -0.0621,  0.2362],\n",
       "         [-0.0088,  0.0473, -0.2168,  ...,  0.0307,  0.2217,  0.0065]],\n",
       "        requires_grad=True),\n",
       " Parameter containing:\n",
       " tensor([[ 0.0000,  0.0420,  0.1593,  ..., -0.0059,  0.2016, -0.2879],\n",
       "         [-0.0932,  0.0000, -0.0390,  ...,  0.2117, -0.0844, -0.0938],\n",
       "         [-0.0210, -0.1170,  0.0000,  ...,  0.0709, -0.2757,  0.0067],\n",
       "         ...,\n",
       "         [-0.1806, -0.0191,  0.2278,  ...,  0.0000, -0.1108,  0.0404],\n",
       "         [-0.0023,  0.0122, -0.0125,  ...,  0.1097,  0.0000, -0.1081],\n",
       "         [ 0.0801,  0.0539, -0.0436,  ..., -0.1712, -0.2872,  0.0000]],\n",
       "        requires_grad=True)]"
      ]
     },
     "execution_count": 60,
     "metadata": {},
     "output_type": "execute_result"
    }
   ],
   "source": [
    "list(m.parameters())"
   ]
  },
  {
   "cell_type": "markdown",
   "metadata": {},
   "source": [
    "The easiest way to rectify this situation is to define an additional `torch.nn.Module` and explicitely register the inverse membrane time constant and threshold as a parameter."
   ]
  },
  {
   "cell_type": "code",
   "execution_count": 225,
   "metadata": {},
   "outputs": [],
   "source": [
    "class ParametrizedLIFRecurrentCell(torch.nn.Module):\n",
    "    def __init__(self, input_size, hidden_size):\n",
    "        super(ParametrizedLIFRecurrentCell, self).__init__()\n",
    "        self.tau_mem_inv = torch.nn.Parameter(norse.torch.functional.lif.LIFParameters().tau_mem_inv + 20*torch.randn(hidden_size))\n",
    "        self.v_th = torch.nn.Parameter(0.5 + 0.1 * torch.randn(hidden_size))\n",
    "        self.cell = norse.torch.module.LIFRecurrentCell(input_size=input_size, hidden_size=hidden_size, \n",
    "                                                        p = norse.torch.functional.lif.LIFParameters(\n",
    "                                                            tau_mem_inv = self.tau_mem_inv,\n",
    "                                                            v_th = self.v_th,\n",
    "                                                            alpha = 100,\n",
    "                                                        )\n",
    "                                                        \n",
    "        )\n",
    "\n",
    "    def forward(self, x, s = None):\n",
    "        return self.cell(x, s)"
   ]
  },
  {
   "cell_type": "code",
   "execution_count": 226,
   "metadata": {},
   "outputs": [
    {
     "data": {
      "text/plain": [
       "ParametrizedLIFRecurrentCell(\n",
       "  (cell): LIFRecurrentCell(\n",
       "    input_size=200, hidden_size=100, p=LIFParameters(tau_syn_inv=tensor(200.), tau_mem_inv=Parameter containing:\n",
       "    tensor([105.7182, 107.4838, 100.0283, 105.1591,  53.3966, 109.9805,  96.5298,\n",
       "             98.7639,  61.6523, 100.5165, 123.9547,  91.8613,  74.4375,  77.2754,\n",
       "             70.4332,  75.0951,  74.7826, 128.1384,  62.5254,  98.4896, 132.6102,\n",
       "            101.3723,  94.8174, 113.6608,  92.8799, 102.4582,  96.0418, 109.7185,\n",
       "             97.0302,  94.2958, 106.0022, 111.0281,  57.8042,  60.2294, 124.0950,\n",
       "            120.5536,  85.0079, 122.0159, 102.3311,  82.8800,  91.6850, 109.0127,\n",
       "             81.5401, 140.7032, 102.0714,  92.9130,  81.3563, 131.6322,  88.3253,\n",
       "             80.4107,  90.0314, 111.8495,  78.5712,  61.6052,  91.2183, 142.2331,\n",
       "            100.1681,  97.8471,  90.6644, 115.2660,  89.4297,  85.5509,  27.3883,\n",
       "             44.9216,  82.8977, 130.8837, 115.9058, 110.5285,  65.6668, 100.6617,\n",
       "             99.4103, 114.3868,  87.7616,  92.7753, 120.3395,  90.8698,  96.0968,\n",
       "             94.1020, 134.0003,  92.5420, 119.3351, 108.7738, 106.1515, 100.8721,\n",
       "             69.7877, 114.0343, 119.7976,  94.8820, 126.8868, 107.7279,  87.2416,\n",
       "            118.0816,  85.2757,  95.5625, 103.5655, 101.1446,  92.8175, 100.2220,\n",
       "            101.5810, 120.5847], requires_grad=True), v_leak=tensor(0.), v_th=Parameter containing:\n",
       "    tensor([0.4763, 0.7102, 0.5170, 0.5944, 0.3752, 0.6186, 0.5279, 0.5828, 0.4731,\n",
       "            0.4420, 0.3426, 0.6271, 0.3732, 0.4154, 0.5121, 0.4326, 0.5450, 0.5674,\n",
       "            0.4952, 0.6068, 0.5628, 0.3578, 0.3267, 0.6845, 0.6106, 0.5249, 0.5779,\n",
       "            0.4979, 0.5589, 0.5879, 0.5523, 0.4543, 0.4563, 0.5968, 0.5322, 0.6053,\n",
       "            0.6176, 0.6008, 0.4561, 0.4256, 0.4695, 0.4654, 0.5881, 0.4071, 0.6236,\n",
       "            0.6023, 0.5724, 0.6621, 0.5386, 0.4352, 0.5922, 0.6512, 0.7498, 0.3829,\n",
       "            0.4641, 0.5914, 0.4768, 0.4183, 0.5869, 0.7052, 0.4787, 0.4283, 0.6367,\n",
       "            0.4590, 0.4615, 0.4977, 0.5333, 0.4441, 0.5708, 0.7478, 0.5310, 0.5089,\n",
       "            0.5937, 0.2963, 0.4295, 0.4411, 0.4158, 0.6090, 0.6406, 0.5169, 0.4072,\n",
       "            0.4794, 0.5371, 0.6913, 0.6281, 0.3540, 0.6166, 0.5970, 0.5496, 0.4816,\n",
       "            0.4926, 0.4962, 0.5401, 0.7173, 0.6444, 0.3962, 0.5445, 0.3929, 0.5025,\n",
       "            0.3769], requires_grad=True), v_reset=tensor(0.), method='super', alpha=tensor(100)), autapses=False, dt=0.001\n",
       "  )\n",
       ")"
      ]
     },
     "execution_count": 226,
     "metadata": {},
     "output_type": "execute_result"
    }
   ],
   "source": [
    "m = ParametrizedLIFRecurrentCell(200, 100)\n",
    "m"
   ]
  },
  {
   "cell_type": "markdown",
   "metadata": {},
   "source": [
    "The inverse membrane time constant and the threshold value now also appears as parameters:"
   ]
  },
  {
   "cell_type": "code",
   "execution_count": 227,
   "metadata": {},
   "outputs": [
    {
     "data": {
      "text/plain": [
       "[Parameter containing:\n",
       " tensor([105.7182, 107.4838, 100.0283, 105.1591,  53.3966, 109.9805,  96.5298,\n",
       "          98.7639,  61.6523, 100.5165, 123.9547,  91.8613,  74.4375,  77.2754,\n",
       "          70.4332,  75.0951,  74.7826, 128.1384,  62.5254,  98.4896, 132.6102,\n",
       "         101.3723,  94.8174, 113.6608,  92.8799, 102.4582,  96.0418, 109.7185,\n",
       "          97.0302,  94.2958, 106.0022, 111.0281,  57.8042,  60.2294, 124.0950,\n",
       "         120.5536,  85.0079, 122.0159, 102.3311,  82.8800,  91.6850, 109.0127,\n",
       "          81.5401, 140.7032, 102.0714,  92.9130,  81.3563, 131.6322,  88.3253,\n",
       "          80.4107,  90.0314, 111.8495,  78.5712,  61.6052,  91.2183, 142.2331,\n",
       "         100.1681,  97.8471,  90.6644, 115.2660,  89.4297,  85.5509,  27.3883,\n",
       "          44.9216,  82.8977, 130.8837, 115.9058, 110.5285,  65.6668, 100.6617,\n",
       "          99.4103, 114.3868,  87.7616,  92.7753, 120.3395,  90.8698,  96.0968,\n",
       "          94.1020, 134.0003,  92.5420, 119.3351, 108.7738, 106.1515, 100.8721,\n",
       "          69.7877, 114.0343, 119.7976,  94.8820, 126.8868, 107.7279,  87.2416,\n",
       "         118.0816,  85.2757,  95.5625, 103.5655, 101.1446,  92.8175, 100.2220,\n",
       "         101.5810, 120.5847], requires_grad=True),\n",
       " Parameter containing:\n",
       " tensor([0.4763, 0.7102, 0.5170, 0.5944, 0.3752, 0.6186, 0.5279, 0.5828, 0.4731,\n",
       "         0.4420, 0.3426, 0.6271, 0.3732, 0.4154, 0.5121, 0.4326, 0.5450, 0.5674,\n",
       "         0.4952, 0.6068, 0.5628, 0.3578, 0.3267, 0.6845, 0.6106, 0.5249, 0.5779,\n",
       "         0.4979, 0.5589, 0.5879, 0.5523, 0.4543, 0.4563, 0.5968, 0.5322, 0.6053,\n",
       "         0.6176, 0.6008, 0.4561, 0.4256, 0.4695, 0.4654, 0.5881, 0.4071, 0.6236,\n",
       "         0.6023, 0.5724, 0.6621, 0.5386, 0.4352, 0.5922, 0.6512, 0.7498, 0.3829,\n",
       "         0.4641, 0.5914, 0.4768, 0.4183, 0.5869, 0.7052, 0.4787, 0.4283, 0.6367,\n",
       "         0.4590, 0.4615, 0.4977, 0.5333, 0.4441, 0.5708, 0.7478, 0.5310, 0.5089,\n",
       "         0.5937, 0.2963, 0.4295, 0.4411, 0.4158, 0.6090, 0.6406, 0.5169, 0.4072,\n",
       "         0.4794, 0.5371, 0.6913, 0.6281, 0.3540, 0.6166, 0.5970, 0.5496, 0.4816,\n",
       "         0.4926, 0.4962, 0.5401, 0.7173, 0.6444, 0.3962, 0.5445, 0.3929, 0.5025,\n",
       "         0.3769], requires_grad=True),\n",
       " Parameter containing:\n",
       " tensor([[ 0.2647,  0.0369, -0.1230,  ..., -0.0659,  0.0242,  0.1555],\n",
       "         [-0.2033,  0.0797,  0.0882,  ...,  0.2867,  0.1669, -0.0143],\n",
       "         [ 0.1000,  0.0366, -0.3470,  ...,  0.0849, -0.0559,  0.0878],\n",
       "         ...,\n",
       "         [ 0.0844, -0.1082, -0.0416,  ...,  0.1089,  0.0370, -0.1723],\n",
       "         [-0.1273, -0.2060, -0.0552,  ...,  0.3023, -0.1878, -0.1071],\n",
       "         [-0.0659, -0.0088,  0.0081,  ..., -0.2171, -0.1173, -0.2679]],\n",
       "        requires_grad=True),\n",
       " Parameter containing:\n",
       " tensor([[ 0.0000e+00,  4.2299e-02,  4.7312e-02,  ..., -1.1504e-02,\n",
       "          -1.9836e-01, -1.2699e-01],\n",
       "         [-1.5662e-01,  0.0000e+00, -3.6343e-02,  ...,  5.3085e-02,\n",
       "           9.1224e-03, -1.6341e-01],\n",
       "         [-3.6074e-03,  3.5989e-02,  0.0000e+00,  ..., -5.7264e-02,\n",
       "           9.8241e-02, -1.4665e-01],\n",
       "         ...,\n",
       "         [-3.4692e-02,  7.1811e-04, -3.9618e-02,  ...,  0.0000e+00,\n",
       "          -1.8011e-01,  1.4050e-01],\n",
       "         [ 2.6199e-02, -2.8831e-02, -1.3311e-01,  ..., -7.4930e-02,\n",
       "           0.0000e+00, -2.1475e-02],\n",
       "         [ 2.4574e-01, -3.2047e-02, -1.4999e-04,  ..., -1.6092e-01,\n",
       "          -3.9056e-02,  0.0000e+00]], requires_grad=True)]"
      ]
     },
     "execution_count": 227,
     "metadata": {},
     "output_type": "execute_result"
    }
   ],
   "source": [
    "list(m.parameters())"
   ]
  },
  {
   "cell_type": "markdown",
   "metadata": {},
   "source": [
    "## Toy Example: Training a small recurrent SNN on MNIST\n",
    "\n",
    "In order to demonstrate training on an example task, we turn to MNIST. The training and testing code here is adopted from  the training notebook on MNIST and serves as an illustration. We do not necessarily expect there to be a great benefit in optimising the time-constants and threshold in this example."
   ]
  },
  {
   "cell_type": "markdown",
   "metadata": {},
   "source": [
    "### Dataset Loading"
   ]
  },
  {
   "cell_type": "code",
   "execution_count": 64,
   "metadata": {
    "scrolled": true
   },
   "outputs": [
    {
     "name": "stdout",
     "output_type": "stream",
     "text": [
      "Downloading http://yann.lecun.com/exdb/mnist/train-images-idx3-ubyte.gz\n",
      "Downloading http://yann.lecun.com/exdb/mnist/train-images-idx3-ubyte.gz to ./MNIST/raw/train-images-idx3-ubyte.gz\n"
     ]
    },
    {
     "data": {
      "application/vnd.jupyter.widget-view+json": {
       "model_id": "ac90c842fa7440a79a8e630fe91df4d9",
       "version_major": 2,
       "version_minor": 0
      },
      "text/plain": [
       "HBox(children=(HTML(value=''), FloatProgress(value=0.0, max=9912422.0), HTML(value='')))"
      ]
     },
     "metadata": {},
     "output_type": "display_data"
    },
    {
     "name": "stdout",
     "output_type": "stream",
     "text": [
      "\n",
      "Extracting ./MNIST/raw/train-images-idx3-ubyte.gz to ./MNIST/raw\n",
      "\n",
      "Downloading http://yann.lecun.com/exdb/mnist/train-labels-idx1-ubyte.gz\n",
      "Downloading http://yann.lecun.com/exdb/mnist/train-labels-idx1-ubyte.gz to ./MNIST/raw/train-labels-idx1-ubyte.gz\n"
     ]
    },
    {
     "data": {
      "application/vnd.jupyter.widget-view+json": {
       "model_id": "0b94ffe103eb492cb4e7f93443d7fba3",
       "version_major": 2,
       "version_minor": 0
      },
      "text/plain": [
       "HBox(children=(HTML(value=''), FloatProgress(value=0.0, max=28881.0), HTML(value='')))"
      ]
     },
     "metadata": {},
     "output_type": "display_data"
    },
    {
     "name": "stdout",
     "output_type": "stream",
     "text": [
      "\n",
      "Extracting ./MNIST/raw/train-labels-idx1-ubyte.gz to ./MNIST/raw\n",
      "\n",
      "Downloading http://yann.lecun.com/exdb/mnist/t10k-images-idx3-ubyte.gz\n",
      "Downloading http://yann.lecun.com/exdb/mnist/t10k-images-idx3-ubyte.gz to ./MNIST/raw/t10k-images-idx3-ubyte.gz\n"
     ]
    },
    {
     "data": {
      "application/vnd.jupyter.widget-view+json": {
       "model_id": "7984a139d1864317a06e56f74d411aad",
       "version_major": 2,
       "version_minor": 0
      },
      "text/plain": [
       "HBox(children=(HTML(value=''), FloatProgress(value=0.0, max=1648877.0), HTML(value='')))"
      ]
     },
     "metadata": {},
     "output_type": "display_data"
    },
    {
     "name": "stdout",
     "output_type": "stream",
     "text": [
      "\n",
      "Extracting ./MNIST/raw/t10k-images-idx3-ubyte.gz to ./MNIST/raw\n",
      "\n",
      "Downloading http://yann.lecun.com/exdb/mnist/t10k-labels-idx1-ubyte.gz\n",
      "Downloading http://yann.lecun.com/exdb/mnist/t10k-labels-idx1-ubyte.gz to ./MNIST/raw/t10k-labels-idx1-ubyte.gz\n"
     ]
    },
    {
     "data": {
      "application/vnd.jupyter.widget-view+json": {
       "model_id": "e3b1a913d41842d7aaca7924df6d9d5a",
       "version_major": 2,
       "version_minor": 0
      },
      "text/plain": [
       "HBox(children=(HTML(value=''), FloatProgress(value=0.0, max=4542.0), HTML(value='')))"
      ]
     },
     "metadata": {},
     "output_type": "display_data"
    },
    {
     "name": "stdout",
     "output_type": "stream",
     "text": [
      "\n",
      "Extracting ./MNIST/raw/t10k-labels-idx1-ubyte.gz to ./MNIST/raw\n",
      "\n"
     ]
    }
   ],
   "source": [
    "import torchvision\n",
    "\n",
    "BATCH_SIZE = 256\n",
    "\n",
    "transform = torchvision.transforms.Compose(\n",
    "    [\n",
    "        torchvision.transforms.ToTensor(),\n",
    "        torchvision.transforms.Normalize((0.1307,), (0.3081,)),\n",
    "    ]\n",
    ")\n",
    "\n",
    "train_data = torchvision.datasets.MNIST(\n",
    "    root=\".\",\n",
    "    train=True,\n",
    "    download=True,\n",
    "    transform=transform,\n",
    ")\n",
    "\n",
    "train_loader = torch.utils.data.DataLoader(\n",
    "    train_data,\n",
    "    batch_size=BATCH_SIZE,\n",
    "    shuffle=True\n",
    ")\n",
    "\n",
    "test_loader = torch.utils.data.DataLoader(\n",
    "    torchvision.datasets.MNIST(\n",
    "        root=\".\",\n",
    "        train=False,\n",
    "        transform=transform,\n",
    "    ),\n",
    "    batch_size=BATCH_SIZE\n",
    ")"
   ]
  },
  {
   "cell_type": "markdown",
   "metadata": {},
   "source": [
    "### Model Defitinition\n",
    "\n",
    "For simplicity we are considering a simple network with a single hidden layer of recurrently connected neurons."
   ]
  },
  {
   "cell_type": "code",
   "execution_count": 152,
   "metadata": {},
   "outputs": [],
   "source": [
    "from norse.torch import LICell\n",
    "\n",
    "class SNN(torch.nn.Module):\n",
    "    def __init__(self, \n",
    "                 input_features,\n",
    "                 hidden_features, \n",
    "                 output_features,\n",
    "                 recurrent_cell\n",
    "                ):\n",
    "        super(SNN, self).__init__()\n",
    "        self.cell = recurrent_cell\n",
    "        self.fc_out = torch.nn.Linear(hidden_features, output_features, bias=False)\n",
    "        self.out = LICell()\n",
    "        self.input_features = input_features\n",
    "                             \n",
    "    def forward(self, x):\n",
    "        seq_length, batch_size, _, _, _ = x.shape\n",
    "        s1 = so = None\n",
    "        voltages = []\n",
    "\n",
    "\n",
    "        for ts in range(seq_length):\n",
    "            z = x[ts, :, :, :].view(-1, self.input_features)\n",
    "            z, s1 = self.cell(z, s1)\n",
    "            z = self.fc_out(z)\n",
    "            vo, so = self.out(z, so)\n",
    "            voltages += [vo]\n",
    "        \n",
    "        return torch.stack(voltages)"
   ]
  },
  {
   "cell_type": "code",
   "execution_count": 154,
   "metadata": {},
   "outputs": [],
   "source": [
    "class Model(torch.nn.Module):\n",
    "    def __init__(self, encoder, snn, decoder):\n",
    "        super(Model, self).__init__()\n",
    "        self.encoder = encoder\n",
    "        self.snn = snn\n",
    "        self.decoder = decoder\n",
    "\n",
    "    def forward(self, x):\n",
    "        x = self.encoder(x)\n",
    "        x = self.snn(x)\n",
    "        log_p_y = self.decoder(x)\n",
    "        return log_p_y"
   ]
  },
  {
   "cell_type": "markdown",
   "metadata": {},
   "source": [
    "### Training and Test loop\n",
    "\n",
    "Both the training and test loop are independent of the model or dataset that we are using, in practice you should however probably use a more sophisticated version as they don't take care of parameter checkpoints or other concerns."
   ]
  },
  {
   "cell_type": "code",
   "execution_count": 155,
   "metadata": {},
   "outputs": [],
   "source": [
    "from tqdm.notebook import tqdm, trange\n",
    "\n",
    "def train(model, device, train_loader, optimizer, epoch, max_epochs):\n",
    "    model.train()\n",
    "    losses = []\n",
    "\n",
    "    for (data, target) in tqdm(train_loader, leave=False):\n",
    "        data, target = data.to(device), target.to(device)\n",
    "        optimizer.zero_grad()\n",
    "        output = model(data)\n",
    "        loss = torch.nn.functional.nll_loss(output, target)\n",
    "        loss.backward()\n",
    "        optimizer.step()\n",
    "        losses.append(loss.item())\n",
    "\n",
    "    mean_loss = np.mean(losses)\n",
    "    return losses, mean_loss"
   ]
  },
  {
   "cell_type": "code",
   "execution_count": 156,
   "metadata": {},
   "outputs": [],
   "source": [
    "def test(model, device, test_loader, epoch):\n",
    "    model.eval()\n",
    "    test_loss = 0\n",
    "    correct = 0\n",
    "    with torch.no_grad():\n",
    "        for data, target in test_loader:\n",
    "            data, target = data.to(device), target.to(device)\n",
    "            output = model(data)\n",
    "            test_loss += torch.nn.functional.nll_loss(\n",
    "                output, target, reduction=\"sum\"\n",
    "            ).item()  # sum up batch loss\n",
    "            pred = output.argmax(\n",
    "                dim=1, keepdim=True\n",
    "            )  # get the index of the max log-probability\n",
    "            correct += pred.eq(target.view_as(pred)).sum().item()\n",
    "\n",
    "    test_loss /= len(test_loader.dataset)\n",
    "\n",
    "    accuracy = 100.0 * correct / len(test_loader.dataset)\n",
    "\n",
    "    return test_loss, accuracy"
   ]
  },
  {
   "cell_type": "code",
   "execution_count": 201,
   "metadata": {},
   "outputs": [],
   "source": [
    "from norse.torch import ConstantCurrentLIFEncoder\n",
    "\n",
    "def decode(x):\n",
    "    x, _ = torch.max(x, 0)\n",
    "    log_p_y = torch.nn.functional.log_softmax(x, dim=1)\n",
    "    return log_p_y\n",
    "\n",
    "\n",
    "T = 32\n",
    "LR = 0.002\n",
    "INPUT_FEATURES = 28*28\n",
    "HIDDEN_FEATURES = 100\n",
    "OUTPUT_FEATURES = 10\n",
    "EPOCHS = 5\n",
    "\n",
    "if torch.cuda.is_available():\n",
    "    DEVICE = torch.device(\"cuda\")\n",
    "else:\n",
    "    DEVICE = torch.device(\"cpu\")"
   ]
  },
  {
   "cell_type": "code",
   "execution_count": 202,
   "metadata": {},
   "outputs": [],
   "source": [
    "def run_training(model, optimizer, epochs = EPOCHS):\n",
    "    training_losses = []\n",
    "    mean_losses = []\n",
    "    test_losses = []\n",
    "    accuracies = []\n",
    "\n",
    "    torch.autograd.set_detect_anomaly(True)\n",
    "\n",
    "    for epoch in trange(epochs):\n",
    "        training_loss, mean_loss = train(model, DEVICE, train_loader, optimizer, epoch, max_epochs=EPOCHS)\n",
    "        test_loss, accuracy = test(model, DEVICE, test_loader, epoch)\n",
    "        training_losses += training_loss\n",
    "        mean_losses.append(mean_loss)\n",
    "        test_losses.append(test_loss)\n",
    "        accuracies.append(accuracy)\n",
    "\n",
    "    print(f\"final accuracy: {accuracies[-1]}\")\n",
    "    return model"
   ]
  },
  {
   "cell_type": "markdown",
   "metadata": {},
   "source": [
    "### Model Evaluation\n",
    "\n",
    "With all of this boilerplate out of the way we can define our final model and run training for a number of epochs (10 by default). If you are impatient you can decrease that number to 1-2. With the default values, the result will be a test accuracy of >95%, that is nothing to write home about. "
   ]
  },
  {
   "cell_type": "code",
   "execution_count": 235,
   "metadata": {},
   "outputs": [],
   "source": [
    "model = Model(\n",
    "    encoder=ConstantCurrentLIFEncoder(\n",
    "      seq_length=T,\n",
    "    ),\n",
    "    snn=SNN(\n",
    "      input_features=INPUT_FEATURES,\n",
    "      hidden_features=HIDDEN_FEATURES,\n",
    "      output_features=OUTPUT_FEATURES,\n",
    "      recurrent_cell=ParametrizedLIFRecurrentCell(\n",
    "            input_size=28*28, \n",
    "            hidden_size=100\n",
    "      )\n",
    "    ),\n",
    "    decoder=decode\n",
    ").to(DEVICE)\n",
    "\n",
    "optimizer = torch.optim.Adam(model.parameters(), lr=LR)"
   ]
  },
  {
   "cell_type": "code",
   "execution_count": 229,
   "metadata": {},
   "outputs": [],
   "source": [
    "tau_mem_inv_before = model.snn.cell.cell.p.tau_mem_inv.cpu().detach().numpy()\n",
    "v_th_before = model.snn.cell.cell.p.v_th.cpu().detach().numpy()"
   ]
  },
  {
   "cell_type": "code",
   "execution_count": 230,
   "metadata": {},
   "outputs": [
    {
     "data": {
      "application/vnd.jupyter.widget-view+json": {
       "model_id": "c40af3ede50643159ee27af2a3f3fcf2",
       "version_major": 2,
       "version_minor": 0
      },
      "text/plain": [
       "HBox(children=(HTML(value=''), FloatProgress(value=0.0, max=10.0), HTML(value='')))"
      ]
     },
     "metadata": {},
     "output_type": "display_data"
    },
    {
     "data": {
      "application/vnd.jupyter.widget-view+json": {
       "model_id": "",
       "version_major": 2,
       "version_minor": 0
      },
      "text/plain": [
       "HBox(children=(HTML(value=''), FloatProgress(value=0.0, max=235.0), HTML(value='')))"
      ]
     },
     "metadata": {},
     "output_type": "display_data"
    },
    {
     "data": {
      "application/vnd.jupyter.widget-view+json": {
       "model_id": "",
       "version_major": 2,
       "version_minor": 0
      },
      "text/plain": [
       "HBox(children=(HTML(value=''), FloatProgress(value=0.0, max=235.0), HTML(value='')))"
      ]
     },
     "metadata": {},
     "output_type": "display_data"
    },
    {
     "data": {
      "application/vnd.jupyter.widget-view+json": {
       "model_id": "",
       "version_major": 2,
       "version_minor": 0
      },
      "text/plain": [
       "HBox(children=(HTML(value=''), FloatProgress(value=0.0, max=235.0), HTML(value='')))"
      ]
     },
     "metadata": {},
     "output_type": "display_data"
    },
    {
     "data": {
      "application/vnd.jupyter.widget-view+json": {
       "model_id": "",
       "version_major": 2,
       "version_minor": 0
      },
      "text/plain": [
       "HBox(children=(HTML(value=''), FloatProgress(value=0.0, max=235.0), HTML(value='')))"
      ]
     },
     "metadata": {},
     "output_type": "display_data"
    },
    {
     "data": {
      "application/vnd.jupyter.widget-view+json": {
       "model_id": "",
       "version_major": 2,
       "version_minor": 0
      },
      "text/plain": [
       "HBox(children=(HTML(value=''), FloatProgress(value=0.0, max=235.0), HTML(value='')))"
      ]
     },
     "metadata": {},
     "output_type": "display_data"
    },
    {
     "data": {
      "application/vnd.jupyter.widget-view+json": {
       "model_id": "",
       "version_major": 2,
       "version_minor": 0
      },
      "text/plain": [
       "HBox(children=(HTML(value=''), FloatProgress(value=0.0, max=235.0), HTML(value='')))"
      ]
     },
     "metadata": {},
     "output_type": "display_data"
    },
    {
     "data": {
      "application/vnd.jupyter.widget-view+json": {
       "model_id": "",
       "version_major": 2,
       "version_minor": 0
      },
      "text/plain": [
       "HBox(children=(HTML(value=''), FloatProgress(value=0.0, max=235.0), HTML(value='')))"
      ]
     },
     "metadata": {},
     "output_type": "display_data"
    },
    {
     "data": {
      "application/vnd.jupyter.widget-view+json": {
       "model_id": "",
       "version_major": 2,
       "version_minor": 0
      },
      "text/plain": [
       "HBox(children=(HTML(value=''), FloatProgress(value=0.0, max=235.0), HTML(value='')))"
      ]
     },
     "metadata": {},
     "output_type": "display_data"
    },
    {
     "data": {
      "application/vnd.jupyter.widget-view+json": {
       "model_id": "",
       "version_major": 2,
       "version_minor": 0
      },
      "text/plain": [
       "HBox(children=(HTML(value=''), FloatProgress(value=0.0, max=235.0), HTML(value='')))"
      ]
     },
     "metadata": {},
     "output_type": "display_data"
    },
    {
     "data": {
      "application/vnd.jupyter.widget-view+json": {
       "model_id": "",
       "version_major": 2,
       "version_minor": 0
      },
      "text/plain": [
       "HBox(children=(HTML(value=''), FloatProgress(value=0.0, max=235.0), HTML(value='')))"
      ]
     },
     "metadata": {},
     "output_type": "display_data"
    },
    {
     "name": "stdout",
     "output_type": "stream",
     "text": [
      "\n",
      "final accuracy: 95.94\n"
     ]
    }
   ],
   "source": [
    "model_after = run_training(model, optimizer, epochs=10)"
   ]
  },
  {
   "cell_type": "code",
   "execution_count": 231,
   "metadata": {},
   "outputs": [],
   "source": [
    "tau_mem_inv_after = model_after.snn.cell.cell.p.tau_mem_inv.cpu().detach().numpy()\n",
    "v_th_after = model_after.snn.cell.cell.p.v_th.cpu().detach().numpy()"
   ]
  },
  {
   "cell_type": "markdown",
   "metadata": {},
   "source": [
    "We can plot the distribution of inverse membrane timeconstants before and after the training:"
   ]
  },
  {
   "cell_type": "code",
   "execution_count": 233,
   "metadata": {},
   "outputs": [
    {
     "data": {
      "text/plain": [
       "<matplotlib.legend.Legend at 0x7fe665b8efd0>"
      ]
     },
     "execution_count": 233,
     "metadata": {},
     "output_type": "execute_result"
    },
    {
     "data": {
      "image/png": "[encoded data removed]",
      "text/plain": [
       "<Figure size 648x360 with 1 Axes>"
      ]
     },
     "metadata": {
      "needs_background": "light"
     },
     "output_type": "display_data"
    }
   ],
   "source": [
    "counts, bins = np.histogram(tau_mem_inv_before)\n",
    "fig, ax = plt.subplots(figsize=(9,5))\n",
    "ax.hist(bins[:-1], bins, weights=counts, histtype='step', label='before')\n",
    "counts, bins = np.histogram(tau_mem_inv_after)\n",
    "ax.hist(bins[:-1], bins, weights=counts, histtype='step', label='after')\n",
    "ax.set_xlabel('$\\\\tau_{m}^{-1}$ [ms]')\n",
    "ax.legend()"
   ]
  },
  {
   "cell_type": "markdown",
   "metadata": {},
   "source": [
    "Similarly we can plot the distribution of membrane threshold voltages before and after optimisation:"
   ]
  },
  {
   "cell_type": "code",
   "execution_count": 234,
   "metadata": {},
   "outputs": [
    {
     "data": {
      "text/plain": [
       "<matplotlib.legend.Legend at 0x7fe665b8a8e0>"
      ]
     },
     "execution_count": 234,
     "metadata": {},
     "output_type": "execute_result"
    },
    {
     "data": {
      "image/png": "[encoded data removed]",
      "text/plain": [
       "<Figure size 648x360 with 1 Axes>"
      ]
     },
     "metadata": {
      "needs_background": "light"
     },
     "output_type": "display_data"
    }
   ],
   "source": [
    "counts, bins = np.histogram(v_th_before)\n",
    "fig, ax = plt.subplots(figsize=(9,5))\n",
    "ax.hist(bins[:-1], bins, weights=counts, histtype='step', label='before')\n",
    "counts, bins = np.histogram(v_th_after)\n",
    "ax.hist(bins[:-1], bins, weights=counts, histtype='step', label='after')\n",
    "ax.set_xlabel('$v_{th}$ [a.u.]')\n",
    "ax.legend()"
   ]
  },
  {
   "cell_type": "markdown",
   "metadata": {},
   "source": [
    "## Conclusions\n",
    "\n",
    "This concludes this tutorial, as we have seen incorporating *neuron parameters* into the optimisation in Norse mainly requires knowledge of the PyTorch internals. At the moment that optimisation is also only supported for the surrogate gradient implementation and not while using the discretised adjoint implementation. This is not a fundamental limitation though and support for neuron parameter gradients could be added. \n",
    "\n",
    "Several publications have recently explored optimising neuron parameters to both demonstrate that the resulting time constant distributions more closely resembled ones measured in biological cells and advantages in ML applications. As always the challenge to practically demonstrating the advantage of incorporating neuron parameters into the optimisation is doing careful and controlled experiments and choosing the right tasks. While this notebook demonstrates the general technique it does take some shortcuts:\n",
    "\n",
    "- Optimisation works best if the scale of the values to be optimised is in an appropriate range. This is not the case here for the inverse time constant, which has a value of > 100. A more sophisticated approach would take this into account by for example generating this parameter from an appropriately scaled initial value. \n",
    "- Similarly we have chosen a rather naive initialisation of both the threshold and inverse membrane time constant. More careful initialisation would for example involve sampling from a distribution with guaranteed positive samples.\n",
    "- Finally we haven't demonstrated any benefit of jointly optimising neuron parameters and synaptic weights. \n",
    "\n"
   ]
  }
 ],
 "metadata": {
  "kernelspec": {
   "display_name": "Python 3 (ipykernel)",
   "language": "python",
   "name": "python3"
  },
  "language_info": {
   "codemirror_mode": {
    "name": "ipython",
    "version": 3
   },
   "file_extension": ".py",
   "mimetype": "text/x-python",
   "name": "python",
   "nbconvert_exporter": "python",
   "pygments_lexer": "ipython3",
   "version": "3.8.5"
  }
 },
 "nbformat": 4,
 "nbformat_minor": 2
}
