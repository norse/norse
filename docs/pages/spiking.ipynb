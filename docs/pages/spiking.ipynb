{
 "cells": [
  {
   "cell_type": "markdown",
   "metadata": {},
   "source": [
    "(page-spiking)=\n",
    "# Introduction to spiking systems\n",
    "\n",
    "Regular artificial neural networks (as we know them from [PyTorch](https://pytorch.org)) consist of neuron layers, that basically takes input vectors and sends it through a function (typically sigmoidal).\n",
    "The issue with this approach is that the temporal dimension is mostly ignored. \n",
    "In biology, neural networks are living things that change over time and where sparseness plays a critical role. \n",
    "Norse attempts to explore state-of-the-art methods **and** the desirable properties of spiking neural networks to achieve lower energy consumption and better performance.\n",
    "\n",
    "In this page we will cover how to \n",
    "1. Simulate neurons\n",
    "2. Visualize spikes\n",
    "3. Optimize spiking systems\n",
    "\n",
    "\n",
    ":::{note}\n",
    "You can execute the code below by hitting <i class=\"fas fa-rocket\"></i> above and pressing <i class=\"fas fa-play\"></i> Live Code.\n",
    ":::"
   ]
  },
  {
   "cell_type": "markdown",
   "metadata": {},
   "source": [
    "## Simulating neurons\n",
    "\n",
    "Neurons consist of two things: the **activation function** and the **neuron membrane state**. To start working with them, we first have to import Norse:\n"
   ]
  },
  {
   "cell_type": "code",
   "execution_count": 1,
   "metadata": {},
   "outputs": [
    {
     "data": {
      "text/plain": [
       "'0.0.7RC3'"
      ]
     },
     "execution_count": 1,
     "metadata": {},
     "output_type": "execute_result"
    }
   ],
   "source": [
    "import norse\n",
    "norse.__version__"
   ]
  },
  {
   "cell_type": "markdown",
   "metadata": {},
   "source": [
    "### Defining our activation function\n",
    "\n",
    "If you are familiar with machine/deep learning, you recognize the `ReLU` or `LSTM` **activation functions**. One of the functions we have added is the [**leaky integrator**](norse/generated/norse.torch.module.leaky_integrator.LI.html). This particular activation function takes input current and stores it inside its neuron membrane."
   ]
  },
  {
   "cell_type": "code",
   "execution_count": 2,
   "metadata": {},
   "outputs": [
    {
     "data": {
      "text/plain": [
       "LI(p=LIParameters(tau_syn_inv=tensor(200.), tau_mem_inv=tensor(100.), v_leak=tensor(0.)), dt=0.001)"
      ]
     },
     "execution_count": 2,
     "metadata": {},
     "output_type": "execute_result"
    }
   ],
   "source": [
    "activation = norse.torch.LI()\n",
    "activation"
   ]
  },
  {
   "cell_type": "markdown",
   "metadata": {},
   "source": [
    "### Defining our data\n",
    "\n",
    "We can now create random input data $\\in \\mathcal{N}(0, 1)$ for 100 timesteps using torch:"
   ]
  },
  {
   "cell_type": "code",
   "execution_count": 3,
   "metadata": {},
   "outputs": [
    {
     "data": {
      "text/plain": [
       "torch.Size([100, 1])"
      ]
     },
     "execution_count": 3,
     "metadata": {},
     "output_type": "execute_result"
    }
   ],
   "source": [
    "import torch\n",
    "data = torch.randn(100, 1)\n",
    "data.shape"
   ]
  },
  {
   "cell_type": "markdown",
   "metadata": {},
   "source": [
    "### Visualizing neuron voltage\n",
    "\n",
    "Since this simulation happened over 100 timesteps, we expect the model to output the evolution of the membrane potential which can plot.\n",
    "\n",
    ":::{note}\n",
    "We encourage the reader to re-run the code with a different datasample. What happens? What happens if you increase the number of timesteps?\n",
    ":::"
   ]
  },
  {
   "cell_type": "code",
   "execution_count": 16,
   "metadata": {},
   "outputs": [
    {
     "data": {
      "text/plain": [
       "[<matplotlib.lines.Line2D at 0x7f77453c0550>]"
      ]
     },
     "execution_count": 16,
     "metadata": {},
     "output_type": "execute_result"
    },
    {
     "data": {
      "image/png": "[encoded data removed]",
      "text/plain": [
       "<Figure size 432x288 with 1 Axes>"
      ]
     },
     "metadata": {
      "needs_background": "light"
     },
     "output_type": "display_data"
    }
   ],
   "source": [
    "import matplotlib.pyplot as plt\n",
    "\n",
    "data = torch.randn(100, 1)\n",
    "voltages, _ = activation(data)\n",
    "plt.plot(voltages.detach())"
   ]
  },
  {
   "cell_type": "markdown",
   "metadata": {},
   "source": [
    "... To be continued ..."
   ]
  }
 ],
 "metadata": {
  "interpreter": {
   "hash": "1d7c6e90a74384adccd95650de7b60ccf01b88e91c61eab2330936fc6c29e88b"
  },
  "kernelspec": {
   "display_name": "Python 3.8.10 64-bit ('norse': venv)",
   "name": "python3"
  },
  "language_info": {
   "name": "python",
   "version": ""
  },
  "orig_nbformat": 4
 },
 "nbformat": 4,
 "nbformat_minor": 2
}